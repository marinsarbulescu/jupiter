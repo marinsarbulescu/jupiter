{
 "cells": [
  {
   "cell_type": "markdown",
   "metadata": {},
   "source": [
    "---\n",
    "\n",
    "_You are currently looking at **version 1.0** of this notebook. To download notebooks and datafiles, as well as get help on Jupyter notebooks in the Coursera platform, visit the [Jupyter Notebook FAQ](https://www.coursera.org/learn/python-machine-learning/resources/bANLa) course resource._\n",
    "\n",
    "---"
   ]
  },
  {
   "cell_type": "markdown",
   "metadata": {
    "collapsed": true
   },
   "source": [
    "# Applied Machine Learning: Module 3 (Evaluation)"
   ]
  },
  {
   "cell_type": "markdown",
   "metadata": {},
   "source": [
    "## Evaluation for Classification"
   ]
  },
  {
   "cell_type": "markdown",
   "metadata": {},
   "source": [
    "### Preamble"
   ]
  },
  {
   "cell_type": "code",
   "execution_count": 1,
   "metadata": {},
   "outputs": [
    {
     "name": "stdout",
     "output_type": "stream",
     "text": [
      "0 178\n",
      "1 182\n",
      "2 177\n",
      "3 183\n",
      "4 181\n",
      "5 182\n",
      "6 181\n",
      "7 179\n",
      "8 174\n",
      "9 180\n"
     ]
    }
   ],
   "source": [
    "%matplotlib notebook\n",
    "import numpy as np\n",
    "import pandas as pd\n",
    "import seaborn as sns\n",
    "import matplotlib.pyplot as plt\n",
    "from sklearn.model_selection import train_test_split\n",
    "from sklearn.datasets import load_digits\n",
    "\n",
    "dataset = load_digits()\n",
    "X, y = dataset.data, dataset.target\n",
    "\n",
    "for class_name, class_count in zip(dataset.target_names, np.bincount(dataset.target)):\n",
    "    print(class_name,class_count)"
   ]
  },
  {
   "cell_type": "code",
   "execution_count": 2,
   "metadata": {},
   "outputs": [
    {
     "name": "stdout",
     "output_type": "stream",
     "text": [
      "Original labels:\t [1 2 3 4 5 6 7 8 9 0 1 2 3 4 5 6 7 8 9 0 1 2 3 4 5 6 7 8 9]\n",
      "New binary labels:\t [1 0 0 0 0 0 0 0 0 0 1 0 0 0 0 0 0 0 0 0 1 0 0 0 0 0 0 0 0]\n"
     ]
    }
   ],
   "source": [
    "# Creating a dataset with imbalanced binary classes:  \n",
    "# Negative class (0) is 'not digit 1' \n",
    "# Positive class (1) is 'digit 1'\n",
    "y_binary_imbalanced = y.copy()\n",
    "y_binary_imbalanced[y_binary_imbalanced != 1] = 0\n",
    "\n",
    "print('Original labels:\\t', y[1:30])\n",
    "print('New binary labels:\\t', y_binary_imbalanced[1:30])"
   ]
  },
  {
   "cell_type": "code",
   "execution_count": 3,
   "metadata": {
    "scrolled": true
   },
   "outputs": [
    {
     "data": {
      "text/plain": [
       "array([1615,  182], dtype=int64)"
      ]
     },
     "execution_count": 3,
     "metadata": {},
     "output_type": "execute_result"
    }
   ],
   "source": [
    "np.bincount(y_binary_imbalanced)    # Negative class (0) is the most frequent class"
   ]
  },
  {
   "cell_type": "code",
   "execution_count": 4,
   "metadata": {},
   "outputs": [
    {
     "data": {
      "text/plain": [
       "0.9088888888888889"
      ]
     },
     "execution_count": 4,
     "metadata": {},
     "output_type": "execute_result"
    }
   ],
   "source": [
    "X_train, X_test, y_train, y_test = train_test_split(X, y_binary_imbalanced, random_state=0)\n",
    "\n",
    "# Accuracy of Support Vector Machine classifier\n",
    "from sklearn.svm import SVC\n",
    "\n",
    "svm = SVC(kernel='rbf', C=1).fit(X_train, y_train)\n",
    "svm.score(X_test, y_test)"
   ]
  },
  {
   "cell_type": "markdown",
   "metadata": {},
   "source": [
    "### Dummy Classifiers"
   ]
  },
  {
   "cell_type": "markdown",
   "metadata": {
    "collapsed": true
   },
   "source": [
    "DummyClassifier is a classifier that makes predictions using simple rules, which can be useful as a baseline for comparison against actual classifiers, especially with imbalanced classes."
   ]
  },
  {
   "cell_type": "code",
   "execution_count": 5,
   "metadata": {},
   "outputs": [
    {
     "data": {
      "text/plain": [
       "array([0, 0, 0, 0, 0, 0, 0, 0, 0, 0, 0, 0, 0, 0, 0, 0, 0, 0, 0, 0, 0, 0,\n",
       "       0, 0, 0, 0, 0, 0, 0, 0, 0, 0, 0, 0, 0, 0, 0, 0, 0, 0, 0, 0, 0, 0,\n",
       "       0, 0, 0, 0, 0, 0, 0, 0, 0, 0, 0, 0, 0, 0, 0, 0, 0, 0, 0, 0, 0, 0,\n",
       "       0, 0, 0, 0, 0, 0, 0, 0, 0, 0, 0, 0, 0, 0, 0, 0, 0, 0, 0, 0, 0, 0,\n",
       "       0, 0, 0, 0, 0, 0, 0, 0, 0, 0, 0, 0, 0, 0, 0, 0, 0, 0, 0, 0, 0, 0,\n",
       "       0, 0, 0, 0, 0, 0, 0, 0, 0, 0, 0, 0, 0, 0, 0, 0, 0, 0, 0, 0, 0, 0,\n",
       "       0, 0, 0, 0, 0, 0, 0, 0, 0, 0, 0, 0, 0, 0, 0, 0, 0, 0, 0, 0, 0, 0,\n",
       "       0, 0, 0, 0, 0, 0, 0, 0, 0, 0, 0, 0, 0, 0, 0, 0, 0, 0, 0, 0, 0, 0,\n",
       "       0, 0, 0, 0, 0, 0, 0, 0, 0, 0, 0, 0, 0, 0, 0, 0, 0, 0, 0, 0, 0, 0,\n",
       "       0, 0, 0, 0, 0, 0, 0, 0, 0, 0, 0, 0, 0, 0, 0, 0, 0, 0, 0, 0, 0, 0,\n",
       "       0, 0, 0, 0, 0, 0, 0, 0, 0, 0, 0, 0, 0, 0, 0, 0, 0, 0, 0, 0, 0, 0,\n",
       "       0, 0, 0, 0, 0, 0, 0, 0, 0, 0, 0, 0, 0, 0, 0, 0, 0, 0, 0, 0, 0, 0,\n",
       "       0, 0, 0, 0, 0, 0, 0, 0, 0, 0, 0, 0, 0, 0, 0, 0, 0, 0, 0, 0, 0, 0,\n",
       "       0, 0, 0, 0, 0, 0, 0, 0, 0, 0, 0, 0, 0, 0, 0, 0, 0, 0, 0, 0, 0, 0,\n",
       "       0, 0, 0, 0, 0, 0, 0, 0, 0, 0, 0, 0, 0, 0, 0, 0, 0, 0, 0, 0, 0, 0,\n",
       "       0, 0, 0, 0, 0, 0, 0, 0, 0, 0, 0, 0, 0, 0, 0, 0, 0, 0, 0, 0, 0, 0,\n",
       "       0, 0, 0, 0, 0, 0, 0, 0, 0, 0, 0, 0, 0, 0, 0, 0, 0, 0, 0, 0, 0, 0,\n",
       "       0, 0, 0, 0, 0, 0, 0, 0, 0, 0, 0, 0, 0, 0, 0, 0, 0, 0, 0, 0, 0, 0,\n",
       "       0, 0, 0, 0, 0, 0, 0, 0, 0, 0, 0, 0, 0, 0, 0, 0, 0, 0, 0, 0, 0, 0,\n",
       "       0, 0, 0, 0, 0, 0, 0, 0, 0, 0, 0, 0, 0, 0, 0, 0, 0, 0, 0, 0, 0, 0,\n",
       "       0, 0, 0, 0, 0, 0, 0, 0, 0, 0])"
      ]
     },
     "execution_count": 5,
     "metadata": {},
     "output_type": "execute_result"
    }
   ],
   "source": [
    "from sklearn.dummy import DummyClassifier\n",
    "\n",
    "# Negative class (0) is most frequent\n",
    "dummy_majority = DummyClassifier(strategy = 'most_frequent').fit(X_train, y_train)\n",
    "# Therefore the dummy 'most_frequent' classifier always predicts class 0\n",
    "y_dummy_predictions = dummy_majority.predict(X_test)\n",
    "\n",
    "y_dummy_predictions"
   ]
  },
  {
   "cell_type": "code",
   "execution_count": 6,
   "metadata": {},
   "outputs": [
    {
     "data": {
      "text/plain": [
       "0.9044444444444445"
      ]
     },
     "execution_count": 6,
     "metadata": {},
     "output_type": "execute_result"
    }
   ],
   "source": [
    "dummy_majority.score(X_test, y_test)"
   ]
  },
  {
   "cell_type": "code",
   "execution_count": 7,
   "metadata": {},
   "outputs": [
    {
     "data": {
      "text/plain": [
       "0.9777777777777777"
      ]
     },
     "execution_count": 7,
     "metadata": {},
     "output_type": "execute_result"
    }
   ],
   "source": [
    "svm = SVC(kernel='linear', C=1).fit(X_train, y_train)\n",
    "svm.score(X_test, y_test)"
   ]
  },
  {
   "cell_type": "markdown",
   "metadata": {},
   "source": [
    "### Confusion matrices"
   ]
  },
  {
   "cell_type": "markdown",
   "metadata": {},
   "source": [
    "#### Binary (two-class) confusion matrix"
   ]
  },
  {
   "cell_type": "code",
   "execution_count": 8,
   "metadata": {},
   "outputs": [
    {
     "name": "stdout",
     "output_type": "stream",
     "text": [
      "Most frequent class (dummy classifier)\n",
      " [[407   0]\n",
      " [ 43   0]]\n"
     ]
    }
   ],
   "source": [
    "from sklearn.metrics import confusion_matrix\n",
    "\n",
    "# Negative class (0) is most frequent\n",
    "dummy_majority = DummyClassifier(strategy = 'most_frequent').fit(X_train, y_train)\n",
    "y_majority_predicted = dummy_majority.predict(X_test)\n",
    "confusion = confusion_matrix(y_test, y_majority_predicted)\n",
    "\n",
    "print('Most frequent class (dummy classifier)\\n', confusion)"
   ]
  },
  {
   "cell_type": "code",
   "execution_count": 9,
   "metadata": {},
   "outputs": [
    {
     "name": "stdout",
     "output_type": "stream",
     "text": [
      "Random class-proportional prediction (dummy classifier)\n",
      " [[376  31]\n",
      " [ 37   6]]\n"
     ]
    }
   ],
   "source": [
    "# produces random predictions w/ same class proportion as training set\n",
    "dummy_classprop = DummyClassifier(strategy='stratified').fit(X_train, y_train)\n",
    "y_classprop_predicted = dummy_classprop.predict(X_test)\n",
    "confusion = confusion_matrix(y_test, y_classprop_predicted)\n",
    "\n",
    "print('Random class-proportional prediction (dummy classifier)\\n', confusion)"
   ]
  },
  {
   "cell_type": "code",
   "execution_count": 10,
   "metadata": {
    "scrolled": true
   },
   "outputs": [
    {
     "name": "stdout",
     "output_type": "stream",
     "text": [
      "Support vector machine classifier (linear kernel, C=1)\n",
      " [[402   5]\n",
      " [  5  38]]\n"
     ]
    }
   ],
   "source": [
    "svm = SVC(kernel='linear', C=1).fit(X_train, y_train)\n",
    "svm_predicted = svm.predict(X_test)\n",
    "confusion = confusion_matrix(y_test, svm_predicted)\n",
    "\n",
    "print('Support vector machine classifier (linear kernel, C=1)\\n', confusion)"
   ]
  },
  {
   "cell_type": "code",
   "execution_count": 11,
   "metadata": {},
   "outputs": [
    {
     "name": "stdout",
     "output_type": "stream",
     "text": [
      "Logistic regression classifier (default settings)\n",
      " [[401   6]\n",
      " [  6  37]]\n"
     ]
    }
   ],
   "source": [
    "from sklearn.linear_model import LogisticRegression\n",
    "\n",
    "lr = LogisticRegression().fit(X_train, y_train)\n",
    "lr_predicted = lr.predict(X_test)\n",
    "confusion = confusion_matrix(y_test, lr_predicted)\n",
    "\n",
    "print('Logistic regression classifier (default settings)\\n', confusion)"
   ]
  },
  {
   "cell_type": "code",
   "execution_count": 12,
   "metadata": {},
   "outputs": [
    {
     "name": "stdout",
     "output_type": "stream",
     "text": [
      "Decision tree classifier (max_depth = 2)\n",
      " [[400   7]\n",
      " [ 17  26]]\n"
     ]
    }
   ],
   "source": [
    "from sklearn.tree import DecisionTreeClassifier\n",
    "\n",
    "dt = DecisionTreeClassifier(max_depth=2).fit(X_train, y_train)\n",
    "tree_predicted = dt.predict(X_test)\n",
    "confusion = confusion_matrix(y_test, tree_predicted)\n",
    "\n",
    "print('Decision tree classifier (max_depth = 2)\\n', confusion)"
   ]
  },
  {
   "cell_type": "markdown",
   "metadata": {},
   "source": [
    "### Evaluation metrics for binary classification"
   ]
  },
  {
   "cell_type": "code",
   "execution_count": 13,
   "metadata": {},
   "outputs": [
    {
     "name": "stdout",
     "output_type": "stream",
     "text": [
      "Accuracy: 0.95\n",
      "Precision: 0.79\n",
      "Recall: 0.60\n",
      "F1: 0.68\n"
     ]
    }
   ],
   "source": [
    "from sklearn.metrics import accuracy_score, precision_score, recall_score, f1_score\n",
    "# Accuracy = TP + TN / (TP + TN + FP + FN)\n",
    "# Precision = TP / (TP + FP)\n",
    "# Recall = TP / (TP + FN)  Also known as sensitivity, or True Positive Rate\n",
    "# F1 = 2 * Precision * Recall / (Precision + Recall) \n",
    "print('Accuracy: {:.2f}'.format(accuracy_score(y_test, tree_predicted)))\n",
    "print('Precision: {:.2f}'.format(precision_score(y_test, tree_predicted)))\n",
    "print('Recall: {:.2f}'.format(recall_score(y_test, tree_predicted)))\n",
    "print('F1: {:.2f}'.format(f1_score(y_test, tree_predicted)))"
   ]
  },
  {
   "cell_type": "code",
   "execution_count": 14,
   "metadata": {},
   "outputs": [
    {
     "name": "stdout",
     "output_type": "stream",
     "text": [
      "             precision    recall  f1-score   support\n",
      "\n",
      "      not 1       0.96      0.98      0.97       407\n",
      "          1       0.79      0.60      0.68        43\n",
      "\n",
      "avg / total       0.94      0.95      0.94       450\n",
      "\n"
     ]
    }
   ],
   "source": [
    "# Combined report with all above metrics\n",
    "from sklearn.metrics import classification_report\n",
    "\n",
    "print(classification_report(y_test, tree_predicted, target_names=['not 1', '1']))"
   ]
  },
  {
   "cell_type": "code",
   "execution_count": 15,
   "metadata": {
    "scrolled": false
   },
   "outputs": [
    {
     "name": "stdout",
     "output_type": "stream",
     "text": [
      "Random class-proportional (dummy)\n",
      "              precision    recall  f1-score   support\n",
      "\n",
      "      not 1       0.91      0.92      0.92       407\n",
      "          1       0.16      0.14      0.15        43\n",
      "\n",
      "avg / total       0.84      0.85      0.84       450\n",
      "\n",
      "SVM\n",
      "              precision    recall  f1-score   support\n",
      "\n",
      "      not 1       0.99      0.99      0.99       407\n",
      "          1       0.88      0.88      0.88        43\n",
      "\n",
      "avg / total       0.98      0.98      0.98       450\n",
      "\n",
      "Logistic regression\n",
      "              precision    recall  f1-score   support\n",
      "\n",
      "      not 1       0.99      0.99      0.99       407\n",
      "          1       0.86      0.86      0.86        43\n",
      "\n",
      "avg / total       0.97      0.97      0.97       450\n",
      "\n",
      "Decision tree\n",
      "              precision    recall  f1-score   support\n",
      "\n",
      "      not 1       0.96      0.98      0.97       407\n",
      "          1       0.79      0.60      0.68        43\n",
      "\n",
      "avg / total       0.94      0.95      0.94       450\n",
      "\n"
     ]
    }
   ],
   "source": [
    "print('Random class-proportional (dummy)\\n', \n",
    "      classification_report(y_test, y_classprop_predicted, target_names=['not 1', '1']))\n",
    "print('SVM\\n', \n",
    "      classification_report(y_test, svm_predicted, target_names = ['not 1', '1']))\n",
    "print('Logistic regression\\n', \n",
    "      classification_report(y_test, lr_predicted, target_names = ['not 1', '1']))\n",
    "print('Decision tree\\n', \n",
    "      classification_report(y_test, tree_predicted, target_names = ['not 1', '1']))"
   ]
  },
  {
   "cell_type": "markdown",
   "metadata": {},
   "source": [
    "### Decision functions"
   ]
  },
  {
   "cell_type": "code",
   "execution_count": 20,
   "metadata": {},
   "outputs": [
    {
     "name": "stdout",
     "output_type": "stream",
     "text": [
      "LogisticRegression(C=1.0, class_weight=None, dual=False, fit_intercept=True,\n",
      "          intercept_scaling=1, max_iter=100, multi_class='ovr', n_jobs=1,\n",
      "          penalty='l2', random_state=None, solver='liblinear', tol=0.0001,\n",
      "          verbose=0, warm_start=False)\n"
     ]
    },
    {
     "data": {
      "text/plain": [
       "[(0, -23.176547400757663),\n",
       " (0, -13.541223742469006),\n",
       " (0, -21.72250047336062),\n",
       " (0, -18.907578437722535),\n",
       " (0, -19.736034587372778),\n",
       " (0, -9.749345951179265),\n",
       " (1, 5.23490021249531),\n",
       " (0, -19.30716117885968),\n",
       " (0, -25.101015601857377),\n",
       " (0, -21.827250934235906),\n",
       " (0, -24.150855663826746),\n",
       " (0, -19.576844844946265),\n",
       " (0, -22.574902551102674),\n",
       " (0, -10.823739601445064),\n",
       " (0, -11.912425566043064),\n",
       " (0, -10.97956652705531),\n",
       " (1, 11.205846086251944),\n",
       " (0, -27.645770221552823),\n",
       " (0, -12.859636015637092),\n",
       " (0, -25.848590145556187)]"
      ]
     },
     "execution_count": 20,
     "metadata": {},
     "output_type": "execute_result"
    }
   ],
   "source": [
    "X_train, X_test, y_train, y_test = train_test_split(X, y_binary_imbalanced, random_state=0)\n",
    "\n",
    "y_scores_lr = lr.fit(X_train, y_train).decision_function(X_test)\n",
    "y_score_list = list(zip(y_test[0:20], y_scores_lr[0:20]))\n",
    "\n",
    "# show the decision_function scores for first 20 instances\n",
    "y_score_list"
   ]
  },
  {
   "cell_type": "code",
   "execution_count": 18,
   "metadata": {},
   "outputs": [
    {
     "data": {
      "text/plain": [
       "[(0, 8.60108727067405e-11),\n",
       " (0, 1.3155903495453823e-06),\n",
       " (0, 3.6816111034009875e-10),\n",
       " (0, 6.1452989618944584e-09),\n",
       " (0, 2.683793414513379e-09),\n",
       " (0, 5.832940124078156e-05),\n",
       " (1, 0.9947008742687163),\n",
       " (0, 4.1210362715903745e-09),\n",
       " (0, 1.2553575357627774e-11),\n",
       " (0, 3.3154719959007555e-10),\n",
       " (0, 3.2465093048358345e-11),\n",
       " (0, 3.1469099051059103e-09),\n",
       " (0, 1.56980024484208e-10),\n",
       " (0, 1.992053353707062e-05),\n",
       " (0, 6.706507243234968e-06),\n",
       " (0, 1.70461945380572e-05),\n",
       " (1, 0.9999864056960567),\n",
       " (0, 9.853591296551983e-13),\n",
       " (0, 2.600937459498366e-06),\n",
       " (0, 5.944289259618554e-12)]"
      ]
     },
     "execution_count": 18,
     "metadata": {},
     "output_type": "execute_result"
    }
   ],
   "source": [
    "X_train, X_test, y_train, y_test = train_test_split(X, y_binary_imbalanced, random_state=0)\n",
    "y_proba_lr = lr.fit(X_train, y_train).predict_proba(X_test)\n",
    "y_proba_list = list(zip(y_test[0:20], y_proba_lr[0:20,1]))\n",
    "\n",
    "# show the probability of positive class for first 20 instances\n",
    "y_proba_list"
   ]
  },
  {
   "cell_type": "markdown",
   "metadata": {},
   "source": [
    "### Precision-recall curves"
   ]
  },
  {
   "cell_type": "code",
   "execution_count": 22,
   "metadata": {},
   "outputs": [
    {
     "data": {
      "application/javascript": [
       "/* Put everything inside the global mpl namespace */\n",
       "window.mpl = {};\n",
       "\n",
       "\n",
       "mpl.get_websocket_type = function() {\n",
       "    if (typeof(WebSocket) !== 'undefined') {\n",
       "        return WebSocket;\n",
       "    } else if (typeof(MozWebSocket) !== 'undefined') {\n",
       "        return MozWebSocket;\n",
       "    } else {\n",
       "        alert('Your browser does not have WebSocket support.' +\n",
       "              'Please try Chrome, Safari or Firefox ≥ 6. ' +\n",
       "              'Firefox 4 and 5 are also supported but you ' +\n",
       "              'have to enable WebSockets in about:config.');\n",
       "    };\n",
       "}\n",
       "\n",
       "mpl.figure = function(figure_id, websocket, ondownload, parent_element) {\n",
       "    this.id = figure_id;\n",
       "\n",
       "    this.ws = websocket;\n",
       "\n",
       "    this.supports_binary = (this.ws.binaryType != undefined);\n",
       "\n",
       "    if (!this.supports_binary) {\n",
       "        var warnings = document.getElementById(\"mpl-warnings\");\n",
       "        if (warnings) {\n",
       "            warnings.style.display = 'block';\n",
       "            warnings.textContent = (\n",
       "                \"This browser does not support binary websocket messages. \" +\n",
       "                    \"Performance may be slow.\");\n",
       "        }\n",
       "    }\n",
       "\n",
       "    this.imageObj = new Image();\n",
       "\n",
       "    this.context = undefined;\n",
       "    this.message = undefined;\n",
       "    this.canvas = undefined;\n",
       "    this.rubberband_canvas = undefined;\n",
       "    this.rubberband_context = undefined;\n",
       "    this.format_dropdown = undefined;\n",
       "\n",
       "    this.image_mode = 'full';\n",
       "\n",
       "    this.root = $('<div/>');\n",
       "    this._root_extra_style(this.root)\n",
       "    this.root.attr('style', 'display: inline-block');\n",
       "\n",
       "    $(parent_element).append(this.root);\n",
       "\n",
       "    this._init_header(this);\n",
       "    this._init_canvas(this);\n",
       "    this._init_toolbar(this);\n",
       "\n",
       "    var fig = this;\n",
       "\n",
       "    this.waiting = false;\n",
       "\n",
       "    this.ws.onopen =  function () {\n",
       "            fig.send_message(\"supports_binary\", {value: fig.supports_binary});\n",
       "            fig.send_message(\"send_image_mode\", {});\n",
       "            if (mpl.ratio != 1) {\n",
       "                fig.send_message(\"set_dpi_ratio\", {'dpi_ratio': mpl.ratio});\n",
       "            }\n",
       "            fig.send_message(\"refresh\", {});\n",
       "        }\n",
       "\n",
       "    this.imageObj.onload = function() {\n",
       "            if (fig.image_mode == 'full') {\n",
       "                // Full images could contain transparency (where diff images\n",
       "                // almost always do), so we need to clear the canvas so that\n",
       "                // there is no ghosting.\n",
       "                fig.context.clearRect(0, 0, fig.canvas.width, fig.canvas.height);\n",
       "            }\n",
       "            fig.context.drawImage(fig.imageObj, 0, 0);\n",
       "        };\n",
       "\n",
       "    this.imageObj.onunload = function() {\n",
       "        fig.ws.close();\n",
       "    }\n",
       "\n",
       "    this.ws.onmessage = this._make_on_message_function(this);\n",
       "\n",
       "    this.ondownload = ondownload;\n",
       "}\n",
       "\n",
       "mpl.figure.prototype._init_header = function() {\n",
       "    var titlebar = $(\n",
       "        '<div class=\"ui-dialog-titlebar ui-widget-header ui-corner-all ' +\n",
       "        'ui-helper-clearfix\"/>');\n",
       "    var titletext = $(\n",
       "        '<div class=\"ui-dialog-title\" style=\"width: 100%; ' +\n",
       "        'text-align: center; padding: 3px;\"/>');\n",
       "    titlebar.append(titletext)\n",
       "    this.root.append(titlebar);\n",
       "    this.header = titletext[0];\n",
       "}\n",
       "\n",
       "\n",
       "\n",
       "mpl.figure.prototype._canvas_extra_style = function(canvas_div) {\n",
       "\n",
       "}\n",
       "\n",
       "\n",
       "mpl.figure.prototype._root_extra_style = function(canvas_div) {\n",
       "\n",
       "}\n",
       "\n",
       "mpl.figure.prototype._init_canvas = function() {\n",
       "    var fig = this;\n",
       "\n",
       "    var canvas_div = $('<div/>');\n",
       "\n",
       "    canvas_div.attr('style', 'position: relative; clear: both; outline: 0');\n",
       "\n",
       "    function canvas_keyboard_event(event) {\n",
       "        return fig.key_event(event, event['data']);\n",
       "    }\n",
       "\n",
       "    canvas_div.keydown('key_press', canvas_keyboard_event);\n",
       "    canvas_div.keyup('key_release', canvas_keyboard_event);\n",
       "    this.canvas_div = canvas_div\n",
       "    this._canvas_extra_style(canvas_div)\n",
       "    this.root.append(canvas_div);\n",
       "\n",
       "    var canvas = $('<canvas/>');\n",
       "    canvas.addClass('mpl-canvas');\n",
       "    canvas.attr('style', \"left: 0; top: 0; z-index: 0; outline: 0\")\n",
       "\n",
       "    this.canvas = canvas[0];\n",
       "    this.context = canvas[0].getContext(\"2d\");\n",
       "\n",
       "    var backingStore = this.context.backingStorePixelRatio ||\n",
       "\tthis.context.webkitBackingStorePixelRatio ||\n",
       "\tthis.context.mozBackingStorePixelRatio ||\n",
       "\tthis.context.msBackingStorePixelRatio ||\n",
       "\tthis.context.oBackingStorePixelRatio ||\n",
       "\tthis.context.backingStorePixelRatio || 1;\n",
       "\n",
       "    mpl.ratio = (window.devicePixelRatio || 1) / backingStore;\n",
       "\n",
       "    var rubberband = $('<canvas/>');\n",
       "    rubberband.attr('style', \"position: absolute; left: 0; top: 0; z-index: 1;\")\n",
       "\n",
       "    var pass_mouse_events = true;\n",
       "\n",
       "    canvas_div.resizable({\n",
       "        start: function(event, ui) {\n",
       "            pass_mouse_events = false;\n",
       "        },\n",
       "        resize: function(event, ui) {\n",
       "            fig.request_resize(ui.size.width, ui.size.height);\n",
       "        },\n",
       "        stop: function(event, ui) {\n",
       "            pass_mouse_events = true;\n",
       "            fig.request_resize(ui.size.width, ui.size.height);\n",
       "        },\n",
       "    });\n",
       "\n",
       "    function mouse_event_fn(event) {\n",
       "        if (pass_mouse_events)\n",
       "            return fig.mouse_event(event, event['data']);\n",
       "    }\n",
       "\n",
       "    rubberband.mousedown('button_press', mouse_event_fn);\n",
       "    rubberband.mouseup('button_release', mouse_event_fn);\n",
       "    // Throttle sequential mouse events to 1 every 20ms.\n",
       "    rubberband.mousemove('motion_notify', mouse_event_fn);\n",
       "\n",
       "    rubberband.mouseenter('figure_enter', mouse_event_fn);\n",
       "    rubberband.mouseleave('figure_leave', mouse_event_fn);\n",
       "\n",
       "    canvas_div.on(\"wheel\", function (event) {\n",
       "        event = event.originalEvent;\n",
       "        event['data'] = 'scroll'\n",
       "        if (event.deltaY < 0) {\n",
       "            event.step = 1;\n",
       "        } else {\n",
       "            event.step = -1;\n",
       "        }\n",
       "        mouse_event_fn(event);\n",
       "    });\n",
       "\n",
       "    canvas_div.append(canvas);\n",
       "    canvas_div.append(rubberband);\n",
       "\n",
       "    this.rubberband = rubberband;\n",
       "    this.rubberband_canvas = rubberband[0];\n",
       "    this.rubberband_context = rubberband[0].getContext(\"2d\");\n",
       "    this.rubberband_context.strokeStyle = \"#000000\";\n",
       "\n",
       "    this._resize_canvas = function(width, height) {\n",
       "        // Keep the size of the canvas, canvas container, and rubber band\n",
       "        // canvas in synch.\n",
       "        canvas_div.css('width', width)\n",
       "        canvas_div.css('height', height)\n",
       "\n",
       "        canvas.attr('width', width * mpl.ratio);\n",
       "        canvas.attr('height', height * mpl.ratio);\n",
       "        canvas.attr('style', 'width: ' + width + 'px; height: ' + height + 'px;');\n",
       "\n",
       "        rubberband.attr('width', width);\n",
       "        rubberband.attr('height', height);\n",
       "    }\n",
       "\n",
       "    // Set the figure to an initial 600x600px, this will subsequently be updated\n",
       "    // upon first draw.\n",
       "    this._resize_canvas(600, 600);\n",
       "\n",
       "    // Disable right mouse context menu.\n",
       "    $(this.rubberband_canvas).bind(\"contextmenu\",function(e){\n",
       "        return false;\n",
       "    });\n",
       "\n",
       "    function set_focus () {\n",
       "        canvas.focus();\n",
       "        canvas_div.focus();\n",
       "    }\n",
       "\n",
       "    window.setTimeout(set_focus, 100);\n",
       "}\n",
       "\n",
       "mpl.figure.prototype._init_toolbar = function() {\n",
       "    var fig = this;\n",
       "\n",
       "    var nav_element = $('<div/>')\n",
       "    nav_element.attr('style', 'width: 100%');\n",
       "    this.root.append(nav_element);\n",
       "\n",
       "    // Define a callback function for later on.\n",
       "    function toolbar_event(event) {\n",
       "        return fig.toolbar_button_onclick(event['data']);\n",
       "    }\n",
       "    function toolbar_mouse_event(event) {\n",
       "        return fig.toolbar_button_onmouseover(event['data']);\n",
       "    }\n",
       "\n",
       "    for(var toolbar_ind in mpl.toolbar_items) {\n",
       "        var name = mpl.toolbar_items[toolbar_ind][0];\n",
       "        var tooltip = mpl.toolbar_items[toolbar_ind][1];\n",
       "        var image = mpl.toolbar_items[toolbar_ind][2];\n",
       "        var method_name = mpl.toolbar_items[toolbar_ind][3];\n",
       "\n",
       "        if (!name) {\n",
       "            // put a spacer in here.\n",
       "            continue;\n",
       "        }\n",
       "        var button = $('<button/>');\n",
       "        button.addClass('ui-button ui-widget ui-state-default ui-corner-all ' +\n",
       "                        'ui-button-icon-only');\n",
       "        button.attr('role', 'button');\n",
       "        button.attr('aria-disabled', 'false');\n",
       "        button.click(method_name, toolbar_event);\n",
       "        button.mouseover(tooltip, toolbar_mouse_event);\n",
       "\n",
       "        var icon_img = $('<span/>');\n",
       "        icon_img.addClass('ui-button-icon-primary ui-icon');\n",
       "        icon_img.addClass(image);\n",
       "        icon_img.addClass('ui-corner-all');\n",
       "\n",
       "        var tooltip_span = $('<span/>');\n",
       "        tooltip_span.addClass('ui-button-text');\n",
       "        tooltip_span.html(tooltip);\n",
       "\n",
       "        button.append(icon_img);\n",
       "        button.append(tooltip_span);\n",
       "\n",
       "        nav_element.append(button);\n",
       "    }\n",
       "\n",
       "    var fmt_picker_span = $('<span/>');\n",
       "\n",
       "    var fmt_picker = $('<select/>');\n",
       "    fmt_picker.addClass('mpl-toolbar-option ui-widget ui-widget-content');\n",
       "    fmt_picker_span.append(fmt_picker);\n",
       "    nav_element.append(fmt_picker_span);\n",
       "    this.format_dropdown = fmt_picker[0];\n",
       "\n",
       "    for (var ind in mpl.extensions) {\n",
       "        var fmt = mpl.extensions[ind];\n",
       "        var option = $(\n",
       "            '<option/>', {selected: fmt === mpl.default_extension}).html(fmt);\n",
       "        fmt_picker.append(option)\n",
       "    }\n",
       "\n",
       "    // Add hover states to the ui-buttons\n",
       "    $( \".ui-button\" ).hover(\n",
       "        function() { $(this).addClass(\"ui-state-hover\");},\n",
       "        function() { $(this).removeClass(\"ui-state-hover\");}\n",
       "    );\n",
       "\n",
       "    var status_bar = $('<span class=\"mpl-message\"/>');\n",
       "    nav_element.append(status_bar);\n",
       "    this.message = status_bar[0];\n",
       "}\n",
       "\n",
       "mpl.figure.prototype.request_resize = function(x_pixels, y_pixels) {\n",
       "    // Request matplotlib to resize the figure. Matplotlib will then trigger a resize in the client,\n",
       "    // which will in turn request a refresh of the image.\n",
       "    this.send_message('resize', {'width': x_pixels, 'height': y_pixels});\n",
       "}\n",
       "\n",
       "mpl.figure.prototype.send_message = function(type, properties) {\n",
       "    properties['type'] = type;\n",
       "    properties['figure_id'] = this.id;\n",
       "    this.ws.send(JSON.stringify(properties));\n",
       "}\n",
       "\n",
       "mpl.figure.prototype.send_draw_message = function() {\n",
       "    if (!this.waiting) {\n",
       "        this.waiting = true;\n",
       "        this.ws.send(JSON.stringify({type: \"draw\", figure_id: this.id}));\n",
       "    }\n",
       "}\n",
       "\n",
       "\n",
       "mpl.figure.prototype.handle_save = function(fig, msg) {\n",
       "    var format_dropdown = fig.format_dropdown;\n",
       "    var format = format_dropdown.options[format_dropdown.selectedIndex].value;\n",
       "    fig.ondownload(fig, format);\n",
       "}\n",
       "\n",
       "\n",
       "mpl.figure.prototype.handle_resize = function(fig, msg) {\n",
       "    var size = msg['size'];\n",
       "    if (size[0] != fig.canvas.width || size[1] != fig.canvas.height) {\n",
       "        fig._resize_canvas(size[0], size[1]);\n",
       "        fig.send_message(\"refresh\", {});\n",
       "    };\n",
       "}\n",
       "\n",
       "mpl.figure.prototype.handle_rubberband = function(fig, msg) {\n",
       "    var x0 = msg['x0'] / mpl.ratio;\n",
       "    var y0 = (fig.canvas.height - msg['y0']) / mpl.ratio;\n",
       "    var x1 = msg['x1'] / mpl.ratio;\n",
       "    var y1 = (fig.canvas.height - msg['y1']) / mpl.ratio;\n",
       "    x0 = Math.floor(x0) + 0.5;\n",
       "    y0 = Math.floor(y0) + 0.5;\n",
       "    x1 = Math.floor(x1) + 0.5;\n",
       "    y1 = Math.floor(y1) + 0.5;\n",
       "    var min_x = Math.min(x0, x1);\n",
       "    var min_y = Math.min(y0, y1);\n",
       "    var width = Math.abs(x1 - x0);\n",
       "    var height = Math.abs(y1 - y0);\n",
       "\n",
       "    fig.rubberband_context.clearRect(\n",
       "        0, 0, fig.canvas.width, fig.canvas.height);\n",
       "\n",
       "    fig.rubberband_context.strokeRect(min_x, min_y, width, height);\n",
       "}\n",
       "\n",
       "mpl.figure.prototype.handle_figure_label = function(fig, msg) {\n",
       "    // Updates the figure title.\n",
       "    fig.header.textContent = msg['label'];\n",
       "}\n",
       "\n",
       "mpl.figure.prototype.handle_cursor = function(fig, msg) {\n",
       "    var cursor = msg['cursor'];\n",
       "    switch(cursor)\n",
       "    {\n",
       "    case 0:\n",
       "        cursor = 'pointer';\n",
       "        break;\n",
       "    case 1:\n",
       "        cursor = 'default';\n",
       "        break;\n",
       "    case 2:\n",
       "        cursor = 'crosshair';\n",
       "        break;\n",
       "    case 3:\n",
       "        cursor = 'move';\n",
       "        break;\n",
       "    }\n",
       "    fig.rubberband_canvas.style.cursor = cursor;\n",
       "}\n",
       "\n",
       "mpl.figure.prototype.handle_message = function(fig, msg) {\n",
       "    fig.message.textContent = msg['message'];\n",
       "}\n",
       "\n",
       "mpl.figure.prototype.handle_draw = function(fig, msg) {\n",
       "    // Request the server to send over a new figure.\n",
       "    fig.send_draw_message();\n",
       "}\n",
       "\n",
       "mpl.figure.prototype.handle_image_mode = function(fig, msg) {\n",
       "    fig.image_mode = msg['mode'];\n",
       "}\n",
       "\n",
       "mpl.figure.prototype.updated_canvas_event = function() {\n",
       "    // Called whenever the canvas gets updated.\n",
       "    this.send_message(\"ack\", {});\n",
       "}\n",
       "\n",
       "// A function to construct a web socket function for onmessage handling.\n",
       "// Called in the figure constructor.\n",
       "mpl.figure.prototype._make_on_message_function = function(fig) {\n",
       "    return function socket_on_message(evt) {\n",
       "        if (evt.data instanceof Blob) {\n",
       "            /* FIXME: We get \"Resource interpreted as Image but\n",
       "             * transferred with MIME type text/plain:\" errors on\n",
       "             * Chrome.  But how to set the MIME type?  It doesn't seem\n",
       "             * to be part of the websocket stream */\n",
       "            evt.data.type = \"image/png\";\n",
       "\n",
       "            /* Free the memory for the previous frames */\n",
       "            if (fig.imageObj.src) {\n",
       "                (window.URL || window.webkitURL).revokeObjectURL(\n",
       "                    fig.imageObj.src);\n",
       "            }\n",
       "\n",
       "            fig.imageObj.src = (window.URL || window.webkitURL).createObjectURL(\n",
       "                evt.data);\n",
       "            fig.updated_canvas_event();\n",
       "            fig.waiting = false;\n",
       "            return;\n",
       "        }\n",
       "        else if (typeof evt.data === 'string' && evt.data.slice(0, 21) == \"data:image/png;base64\") {\n",
       "            fig.imageObj.src = evt.data;\n",
       "            fig.updated_canvas_event();\n",
       "            fig.waiting = false;\n",
       "            return;\n",
       "        }\n",
       "\n",
       "        var msg = JSON.parse(evt.data);\n",
       "        var msg_type = msg['type'];\n",
       "\n",
       "        // Call the  \"handle_{type}\" callback, which takes\n",
       "        // the figure and JSON message as its only arguments.\n",
       "        try {\n",
       "            var callback = fig[\"handle_\" + msg_type];\n",
       "        } catch (e) {\n",
       "            console.log(\"No handler for the '\" + msg_type + \"' message type: \", msg);\n",
       "            return;\n",
       "        }\n",
       "\n",
       "        if (callback) {\n",
       "            try {\n",
       "                // console.log(\"Handling '\" + msg_type + \"' message: \", msg);\n",
       "                callback(fig, msg);\n",
       "            } catch (e) {\n",
       "                console.log(\"Exception inside the 'handler_\" + msg_type + \"' callback:\", e, e.stack, msg);\n",
       "            }\n",
       "        }\n",
       "    };\n",
       "}\n",
       "\n",
       "// from http://stackoverflow.com/questions/1114465/getting-mouse-location-in-canvas\n",
       "mpl.findpos = function(e) {\n",
       "    //this section is from http://www.quirksmode.org/js/events_properties.html\n",
       "    var targ;\n",
       "    if (!e)\n",
       "        e = window.event;\n",
       "    if (e.target)\n",
       "        targ = e.target;\n",
       "    else if (e.srcElement)\n",
       "        targ = e.srcElement;\n",
       "    if (targ.nodeType == 3) // defeat Safari bug\n",
       "        targ = targ.parentNode;\n",
       "\n",
       "    // jQuery normalizes the pageX and pageY\n",
       "    // pageX,Y are the mouse positions relative to the document\n",
       "    // offset() returns the position of the element relative to the document\n",
       "    var x = e.pageX - $(targ).offset().left;\n",
       "    var y = e.pageY - $(targ).offset().top;\n",
       "\n",
       "    return {\"x\": x, \"y\": y};\n",
       "};\n",
       "\n",
       "/*\n",
       " * return a copy of an object with only non-object keys\n",
       " * we need this to avoid circular references\n",
       " * http://stackoverflow.com/a/24161582/3208463\n",
       " */\n",
       "function simpleKeys (original) {\n",
       "  return Object.keys(original).reduce(function (obj, key) {\n",
       "    if (typeof original[key] !== 'object')\n",
       "        obj[key] = original[key]\n",
       "    return obj;\n",
       "  }, {});\n",
       "}\n",
       "\n",
       "mpl.figure.prototype.mouse_event = function(event, name) {\n",
       "    var canvas_pos = mpl.findpos(event)\n",
       "\n",
       "    if (name === 'button_press')\n",
       "    {\n",
       "        this.canvas.focus();\n",
       "        this.canvas_div.focus();\n",
       "    }\n",
       "\n",
       "    var x = canvas_pos.x * mpl.ratio;\n",
       "    var y = canvas_pos.y * mpl.ratio;\n",
       "\n",
       "    this.send_message(name, {x: x, y: y, button: event.button,\n",
       "                             step: event.step,\n",
       "                             guiEvent: simpleKeys(event)});\n",
       "\n",
       "    /* This prevents the web browser from automatically changing to\n",
       "     * the text insertion cursor when the button is pressed.  We want\n",
       "     * to control all of the cursor setting manually through the\n",
       "     * 'cursor' event from matplotlib */\n",
       "    event.preventDefault();\n",
       "    return false;\n",
       "}\n",
       "\n",
       "mpl.figure.prototype._key_event_extra = function(event, name) {\n",
       "    // Handle any extra behaviour associated with a key event\n",
       "}\n",
       "\n",
       "mpl.figure.prototype.key_event = function(event, name) {\n",
       "\n",
       "    // Prevent repeat events\n",
       "    if (name == 'key_press')\n",
       "    {\n",
       "        if (event.which === this._key)\n",
       "            return;\n",
       "        else\n",
       "            this._key = event.which;\n",
       "    }\n",
       "    if (name == 'key_release')\n",
       "        this._key = null;\n",
       "\n",
       "    var value = '';\n",
       "    if (event.ctrlKey && event.which != 17)\n",
       "        value += \"ctrl+\";\n",
       "    if (event.altKey && event.which != 18)\n",
       "        value += \"alt+\";\n",
       "    if (event.shiftKey && event.which != 16)\n",
       "        value += \"shift+\";\n",
       "\n",
       "    value += 'k';\n",
       "    value += event.which.toString();\n",
       "\n",
       "    this._key_event_extra(event, name);\n",
       "\n",
       "    this.send_message(name, {key: value,\n",
       "                             guiEvent: simpleKeys(event)});\n",
       "    return false;\n",
       "}\n",
       "\n",
       "mpl.figure.prototype.toolbar_button_onclick = function(name) {\n",
       "    if (name == 'download') {\n",
       "        this.handle_save(this, null);\n",
       "    } else {\n",
       "        this.send_message(\"toolbar_button\", {name: name});\n",
       "    }\n",
       "};\n",
       "\n",
       "mpl.figure.prototype.toolbar_button_onmouseover = function(tooltip) {\n",
       "    this.message.textContent = tooltip;\n",
       "};\n",
       "mpl.toolbar_items = [[\"Home\", \"Reset original view\", \"fa fa-home icon-home\", \"home\"], [\"Back\", \"Back to previous view\", \"fa fa-arrow-left icon-arrow-left\", \"back\"], [\"Forward\", \"Forward to next view\", \"fa fa-arrow-right icon-arrow-right\", \"forward\"], [\"\", \"\", \"\", \"\"], [\"Pan\", \"Pan axes with left mouse, zoom with right\", \"fa fa-arrows icon-move\", \"pan\"], [\"Zoom\", \"Zoom to rectangle\", \"fa fa-square-o icon-check-empty\", \"zoom\"], [\"\", \"\", \"\", \"\"], [\"Download\", \"Download plot\", \"fa fa-floppy-o icon-save\", \"download\"]];\n",
       "\n",
       "mpl.extensions = [\"eps\", \"jpeg\", \"pdf\", \"png\", \"ps\", \"raw\", \"svg\", \"tif\"];\n",
       "\n",
       "mpl.default_extension = \"png\";var comm_websocket_adapter = function(comm) {\n",
       "    // Create a \"websocket\"-like object which calls the given IPython comm\n",
       "    // object with the appropriate methods. Currently this is a non binary\n",
       "    // socket, so there is still some room for performance tuning.\n",
       "    var ws = {};\n",
       "\n",
       "    ws.close = function() {\n",
       "        comm.close()\n",
       "    };\n",
       "    ws.send = function(m) {\n",
       "        //console.log('sending', m);\n",
       "        comm.send(m);\n",
       "    };\n",
       "    // Register the callback with on_msg.\n",
       "    comm.on_msg(function(msg) {\n",
       "        //console.log('receiving', msg['content']['data'], msg);\n",
       "        // Pass the mpl event to the overridden (by mpl) onmessage function.\n",
       "        ws.onmessage(msg['content']['data'])\n",
       "    });\n",
       "    return ws;\n",
       "}\n",
       "\n",
       "mpl.mpl_figure_comm = function(comm, msg) {\n",
       "    // This is the function which gets called when the mpl process\n",
       "    // starts-up an IPython Comm through the \"matplotlib\" channel.\n",
       "\n",
       "    var id = msg.content.data.id;\n",
       "    // Get hold of the div created by the display call when the Comm\n",
       "    // socket was opened in Python.\n",
       "    var element = $(\"#\" + id);\n",
       "    var ws_proxy = comm_websocket_adapter(comm)\n",
       "\n",
       "    function ondownload(figure, format) {\n",
       "        window.open(figure.imageObj.src);\n",
       "    }\n",
       "\n",
       "    var fig = new mpl.figure(id, ws_proxy,\n",
       "                           ondownload,\n",
       "                           element.get(0));\n",
       "\n",
       "    // Call onopen now - mpl needs it, as it is assuming we've passed it a real\n",
       "    // web socket which is closed, not our websocket->open comm proxy.\n",
       "    ws_proxy.onopen();\n",
       "\n",
       "    fig.parent_element = element.get(0);\n",
       "    fig.cell_info = mpl.find_output_cell(\"<div id='\" + id + \"'></div>\");\n",
       "    if (!fig.cell_info) {\n",
       "        console.error(\"Failed to find cell for figure\", id, fig);\n",
       "        return;\n",
       "    }\n",
       "\n",
       "    var output_index = fig.cell_info[2]\n",
       "    var cell = fig.cell_info[0];\n",
       "\n",
       "};\n",
       "\n",
       "mpl.figure.prototype.handle_close = function(fig, msg) {\n",
       "    var width = fig.canvas.width/mpl.ratio\n",
       "    fig.root.unbind('remove')\n",
       "\n",
       "    // Update the output cell to use the data from the current canvas.\n",
       "    fig.push_to_output();\n",
       "    var dataURL = fig.canvas.toDataURL();\n",
       "    // Re-enable the keyboard manager in IPython - without this line, in FF,\n",
       "    // the notebook keyboard shortcuts fail.\n",
       "    IPython.keyboard_manager.enable()\n",
       "    $(fig.parent_element).html('<img src=\"' + dataURL + '\" width=\"' + width + '\">');\n",
       "    fig.close_ws(fig, msg);\n",
       "}\n",
       "\n",
       "mpl.figure.prototype.close_ws = function(fig, msg){\n",
       "    fig.send_message('closing', msg);\n",
       "    // fig.ws.close()\n",
       "}\n",
       "\n",
       "mpl.figure.prototype.push_to_output = function(remove_interactive) {\n",
       "    // Turn the data on the canvas into data in the output cell.\n",
       "    var width = this.canvas.width/mpl.ratio\n",
       "    var dataURL = this.canvas.toDataURL();\n",
       "    this.cell_info[1]['text/html'] = '<img src=\"' + dataURL + '\" width=\"' + width + '\">';\n",
       "}\n",
       "\n",
       "mpl.figure.prototype.updated_canvas_event = function() {\n",
       "    // Tell IPython that the notebook contents must change.\n",
       "    IPython.notebook.set_dirty(true);\n",
       "    this.send_message(\"ack\", {});\n",
       "    var fig = this;\n",
       "    // Wait a second, then push the new image to the DOM so\n",
       "    // that it is saved nicely (might be nice to debounce this).\n",
       "    setTimeout(function () { fig.push_to_output() }, 1000);\n",
       "}\n",
       "\n",
       "mpl.figure.prototype._init_toolbar = function() {\n",
       "    var fig = this;\n",
       "\n",
       "    var nav_element = $('<div/>')\n",
       "    nav_element.attr('style', 'width: 100%');\n",
       "    this.root.append(nav_element);\n",
       "\n",
       "    // Define a callback function for later on.\n",
       "    function toolbar_event(event) {\n",
       "        return fig.toolbar_button_onclick(event['data']);\n",
       "    }\n",
       "    function toolbar_mouse_event(event) {\n",
       "        return fig.toolbar_button_onmouseover(event['data']);\n",
       "    }\n",
       "\n",
       "    for(var toolbar_ind in mpl.toolbar_items){\n",
       "        var name = mpl.toolbar_items[toolbar_ind][0];\n",
       "        var tooltip = mpl.toolbar_items[toolbar_ind][1];\n",
       "        var image = mpl.toolbar_items[toolbar_ind][2];\n",
       "        var method_name = mpl.toolbar_items[toolbar_ind][3];\n",
       "\n",
       "        if (!name) { continue; };\n",
       "\n",
       "        var button = $('<button class=\"btn btn-default\" href=\"#\" title=\"' + name + '\"><i class=\"fa ' + image + ' fa-lg\"></i></button>');\n",
       "        button.click(method_name, toolbar_event);\n",
       "        button.mouseover(tooltip, toolbar_mouse_event);\n",
       "        nav_element.append(button);\n",
       "    }\n",
       "\n",
       "    // Add the status bar.\n",
       "    var status_bar = $('<span class=\"mpl-message\" style=\"text-align:right; float: right;\"/>');\n",
       "    nav_element.append(status_bar);\n",
       "    this.message = status_bar[0];\n",
       "\n",
       "    // Add the close button to the window.\n",
       "    var buttongrp = $('<div class=\"btn-group inline pull-right\"></div>');\n",
       "    var button = $('<button class=\"btn btn-mini btn-primary\" href=\"#\" title=\"Stop Interaction\"><i class=\"fa fa-power-off icon-remove icon-large\"></i></button>');\n",
       "    button.click(function (evt) { fig.handle_close(fig, {}); } );\n",
       "    button.mouseover('Stop Interaction', toolbar_mouse_event);\n",
       "    buttongrp.append(button);\n",
       "    var titlebar = this.root.find($('.ui-dialog-titlebar'));\n",
       "    titlebar.prepend(buttongrp);\n",
       "}\n",
       "\n",
       "mpl.figure.prototype._root_extra_style = function(el){\n",
       "    var fig = this\n",
       "    el.on(\"remove\", function(){\n",
       "\tfig.close_ws(fig, {});\n",
       "    });\n",
       "}\n",
       "\n",
       "mpl.figure.prototype._canvas_extra_style = function(el){\n",
       "    // this is important to make the div 'focusable\n",
       "    el.attr('tabindex', 0)\n",
       "    // reach out to IPython and tell the keyboard manager to turn it's self\n",
       "    // off when our div gets focus\n",
       "\n",
       "    // location in version 3\n",
       "    if (IPython.notebook.keyboard_manager) {\n",
       "        IPython.notebook.keyboard_manager.register_events(el);\n",
       "    }\n",
       "    else {\n",
       "        // location in version 2\n",
       "        IPython.keyboard_manager.register_events(el);\n",
       "    }\n",
       "\n",
       "}\n",
       "\n",
       "mpl.figure.prototype._key_event_extra = function(event, name) {\n",
       "    var manager = IPython.notebook.keyboard_manager;\n",
       "    if (!manager)\n",
       "        manager = IPython.keyboard_manager;\n",
       "\n",
       "    // Check for shift+enter\n",
       "    if (event.shiftKey && event.which == 13) {\n",
       "        this.canvas_div.blur();\n",
       "        event.shiftKey = false;\n",
       "        // Send a \"J\" for go to next cell\n",
       "        event.which = 74;\n",
       "        event.keyCode = 74;\n",
       "        manager.command_mode();\n",
       "        manager.handle_keydown(event);\n",
       "    }\n",
       "}\n",
       "\n",
       "mpl.figure.prototype.handle_save = function(fig, msg) {\n",
       "    fig.ondownload(fig, null);\n",
       "}\n",
       "\n",
       "\n",
       "mpl.find_output_cell = function(html_output) {\n",
       "    // Return the cell and output element which can be found *uniquely* in the notebook.\n",
       "    // Note - this is a bit hacky, but it is done because the \"notebook_saving.Notebook\"\n",
       "    // IPython event is triggered only after the cells have been serialised, which for\n",
       "    // our purposes (turning an active figure into a static one), is too late.\n",
       "    var cells = IPython.notebook.get_cells();\n",
       "    var ncells = cells.length;\n",
       "    for (var i=0; i<ncells; i++) {\n",
       "        var cell = cells[i];\n",
       "        if (cell.cell_type === 'code'){\n",
       "            for (var j=0; j<cell.output_area.outputs.length; j++) {\n",
       "                var data = cell.output_area.outputs[j];\n",
       "                if (data.data) {\n",
       "                    // IPython >= 3 moved mimebundle to data attribute of output\n",
       "                    data = data.data;\n",
       "                }\n",
       "                if (data['text/html'] == html_output) {\n",
       "                    return [cell, data, j];\n",
       "                }\n",
       "            }\n",
       "        }\n",
       "    }\n",
       "}\n",
       "\n",
       "// Register the function which deals with the matplotlib target/channel.\n",
       "// The kernel may be null if the page has been refreshed.\n",
       "if (IPython.notebook.kernel != null) {\n",
       "    IPython.notebook.kernel.comm_manager.register_target('matplotlib', mpl.mpl_figure_comm);\n",
       "}\n"
      ],
      "text/plain": [
       "<IPython.core.display.Javascript object>"
      ]
     },
     "metadata": {},
     "output_type": "display_data"
    },
    {
     "data": {
      "text/html": [
       "<img src=\"data:image/png;base64,iVBORw0KGgoAAAANSUhEUgAAAoAAAAHgCAYAAAA10dzkAAAgAElEQVR4XuydCbhO5drH/7YxMxGZqWTKnDFDpaIJTTQo5VSav4bToAhFxSmcBmOlNCvNiZR5qCgKUTKGRCKSce/vetY57z7Ym/3ud79rrWet9VvX5frO137Wc9/377/c/nut9TwrV1paWpo4IAABCEAAAhCAAAQiQyAXBjAyWlMoBCAAAQhAAAIQcAhgALkQIAABCEAAAhCAQMQIYAAjJjjlQgACEIAABCAAAQwg1wAEIAABCEAAAhCIGAEMYMQEp1wIQAACEIAABCCAAeQagAAEIAABCEAAAhEjgAGMmOCUCwEIQAACEIAABDCAXAMQgAAEIAABCEAgYgQwgBETnHIhAAEIQAACEIAABpBrAAIQgAAEIAABCESMAAYwYoJTLgQgAAEIQAACEMAAcg1AAAIQgAAEIACBiBHAAEZMcMqFAAQgAAEIQAACGECuAQhAAAIQgAAEIBAxAhjAiAlOuRCAAAQgAAEIQAADyDUAAQhAAAIQgAAEIkYAAxgxwSkXAhCAAAQgAAEIYAC5BiAAAQhAAAIQgEDECGAAIyY45UIAAhCAAAQgAAEMINcABCAAAQhAAAIQiBgBDGDEBKdcCEAAAhCAAAQggAHkGoAABCAAAQhAAAIRI4ABjJjglAsBCEAAAhCAAAQwgFwDEIAABCAAAQhAIGIEMIARE5xyIQABCEAAAhCAAAaQawACEIAABCAAAQhEjAAGMGKCUy4EIAABCEAAAhDAAHINQAACEIAABCAAgYgRwABGTHDKhQAEIAABCEAAAhhArgEIQAACEIAABCAQMQIYwIgJTrkQgAAEIAABCEAAA8g1AAEIQAACEIAABCJGAAMYMcEpFwIQgAAEIAABCGAAuQYgAAEIQAACEIBAxAhgACMmOOVCAAIQgAAEIAABDCDXAAQgAAEIQAACEIgYAQxgxASnXAhAAAIQgAAEIIAB5BqAAAQgAAEIQAACESOAAYyY4JQLAQhAAAIQgAAEMIBcAxCAAAQgAAEIQCBiBDCAEROcciEAAQhAAAIQgAAGkGsAAhCAAAQgAAEIRIwABjBiglMuBCAAAQhAAAIQwAByDUAAAhCAAAQgAIGIEcAARkxwyoUABCAAAQhAAAIYQK4BCEAAAhCAAAQgEDECGMCICU65EIAABCAAAQhAAAPINQABCEAAAhCAAAQiRgADGDHBKRcCEIAABCAAAQhgALkGIAABCEAAAhCAQMQIYAAjJjjlQgACEIAABCAAAQwg1wAEIAABCEAAAhCIGAEMYMQEp1wIQAACEIAABCCAAeQagAAEIAABCEAAAhEjgAGMmOCUCwEIQAACEIAABDCAXAMQgAAEIAABCEAgYgQwgCEQfMaMGRo8eLAWLFigjRs36t1331WnTp2OWtn06dN11113acmSJSpXrpzuvfde9ezZM24aqamp2rBhg4oUKaJcuXLFfR4DIQABCEDADgJpaWnasWOH829ASkqKHUmRhWcEMICeoXYv0MSJEzV79mw1bNhQF198cZYGcNWqVapTp46uv/563Xjjjc65N998s15//XXn/HiOX375RRUrVoxnKGMgAAEIQMBiAuvWrVOFChUszpDU3CCAAXSDqo9zmrtxWd0BvO+++/TBBx/ohx9+SM/U3P1btGiR5s6dG1f227dvV/HixWUaR9GiReM6h0EQgAAEIGAPgT///NP5RX7btm0qVqyYPYmRiScEMICeYPYuSDwGsHXr1mrQoIGGDRuWnpgxjZdddpl27dqlvHnzZkh4z549Mn9iR6xxGCOIAfROXyJBwCsCqalpOmvIdFUtVViPX3yKShXO71Vo4nhEwPRxY/zo4x4BtywMBtAyQXKaTjwGsHr16urevbt69eqVHm7OnDlq2bKl817f8ccfnyGNvn37ql+/fhn+O40jp4pxPgTsJPDz5p0688npyp8nRYv7naO8uXlHzE6lEs8KA5g4uzCciQEMg4oH1RCvAbz22mv1wAMPpJ9p3gM87bTTnEUkZcuW5Q5gyK4LyoFAdgm8veAX3TN+kU6tUkLje7bI7umMDwABDGAARHIxRQygi3D9mDoeA5jII+DDa6Fx+KEuMSHgHYFe736v175cqxtaV1Ovc2t6F5hInhGgj3uG2spAGEArZUk8qXgMoFkE8uGHH2rp0qXpgW666SYtXLgw7kUgNI7ENeJMCASBQIdhM/XDxj814qqGal8n42shQaiBHI9OgD4e7SsEAxgC/Xfu3KkVK1Y4lZjFHU899ZROP/10lSxZUpUqVXIe9a5fv14vv/yyMya2DYzZAsZsBWNW/ppVwNnZBobGEYILhxIgcAQCO/fsV92+k5SaJn3Z60yVKVoAViEkQB8PoajZKAkDmA1Ytg6dNm2aY/gOP6655hqNHTvWWfCxevVqmXGxw2wEfeedd6ZvBG3uCmZnI2gah61XA3lBIOcE5vy8RVeM/lLlix+j2fefkfMJmcFKAvRxK2XxLCkMoGeowxWIxhEuPakGAgcTeHbqCg2etFzn1T1ez17REDghJUAfD6mwcZaFAYwTFMMOJUDj4IqAQHgJ/OOlrzXlh990aaMKuqBeOSsKNV+cbFy5pI7Jl9uKfMKQBH08DComXgMGMHF2kT6TxhFp+Sk+5ARaDfpC67b+bV2VrauX1svXNbEur6AmRB8PqnLJyRsDmByOkZuFxhE5ySk4QgRGz1ipCd+ut6bi33fu0W879qh5tWP1+g3NrMkr6InQx4OuYM7yxwDmjF9kz6ZxRFZ6CoeA5wQe/WipxsxapWtbVtHDF9T2PH5YA9LHw6psfHVhAOPjxKjDCNA4uCQgAAGvCFw15kvNWrFFgy6uq8tOrehV2NDHoY+HXuKjFogBjLb+CVdP40gYHSdCAALZIJCWlqbGj07R73/t1Qe3tlTdCsWzcTZDj0aAPh7t6wMDGG39E66expEwOk6EAASyQeC3HbvVZMDnSsklLenXnlXA2WCX1VD6eFaEwv1zDGC49XWtOhqHa2iZGAIQOIjAjB836+oXvlK10oX0xd1tYZNEAvTxJMIM4FQYwACKZkPKNA4bVCAHCISfwKgZP2vgJ8t03inH69kr2ZQ6mYrTx5NJM3hzYQCDp5kVGdM4rJCBJCAQegJ3vbnQ2ZKmTNH8qlSyYHq9uVNy6YbW1XRGjTKhZ+BWgfRxt8gGY14MYDB0si5LGod1kpAQBEJJ4K63FmrCN5nvSXhmjeP0fPdTQ1m3F0XRx72gbG8MDKC92lidGY3DanlIDgKhIfD33gPOFjAHUlPTa3r9q3Wa/uNmdW9RRX0vZF/ARMWmjydKLhznYQDDoaPnVdA4PEdOQAhA4L8Euj3/pWb+tEWPX3SKujapBJcECdDHEwQXktMwgCER0usyaBxeEyceBCAQI2D2Bdyyc4/eu6Wl6ldkX8BErwz6eKLkwnEeBjAcOnpeBY3Dc+QEhAAEJMf4GQOYy9kX8BwVzJcHLgkSoI8nCC4kp2EAQyKk12XQOLwmTjwIQMAQmL1ii64c86WqHFtQ0/55OlByQIA+ngN4ITgVAxgCEf0ogcbhB3ViQgACY2au1KMf/6BzapfRyG6NAZIDAvTxHMALwakYwBCI6EcJNA4/qBMTAhD45/hFGr/gF3WsX05dTz10AUjt8kVVtEBeIMVJgD4eJ6iQDsMAhlRYt8uicbhNmPkhAIHMCFw6Yo6+Xv1HpnBOKF1In/O5uLgvHPp43KhCORADGEpZ3S+KxuE+YyJAAAIZCbw1f52en7lKqWlp6T/cuWe/Nm7frXLFCmjOA2eCLU4C9PE4QYV0GAYwpMK6XRaNw23CzA8BCMRLYNy8Ner93mKdfnJpvXhtk3hPi/w4+ni0LwEMYLT1T7h6GkfC6DgRAhBIMoGH3vter8xbq55tTtD9HWokefbwTkcfD6+28VSGAYyHEmMyEKBxcFFAAAK2EIi9FzikSz11blDBlrSsz4M+br1EriaIAXQVb3gnp3GEV1sqg0CQCKSlpalev8n6c/d+fXJ7K9UqVzRI6fuaK33cV/y+B8cA+i5BMBOgcQRTN7KGQNgIbNz+t5o/9oVyp+TS0v7nKH+e3GEr0bV66OOuoQ3ExBjAQMhkX5I0Dvs0ISMIRJHA1OW/6doXv9ZJxxXWZ3e1iSKChGumjyeMLhQnYgBDIaP3RdA4vGdORAhAICOBEdN/1uMTl6nYMXlV6/j4Hv+a7whf2rhC5N8XpI9H+28UBjDa+idcPY0jYXScCAEIJJHA8Gk/64lPl2V7Ru4YSvTxbF82oToBAxgqOb0rhsbhHWsiQQACRyaw70CqZvy4WX/tPRAXJjP27QW/qHX10nr5umjvGUgfj+uSCe0gDGBopXW3MBqHu3yZHQIQcIfAIx8t1fOzVum6llXV54Ja7gQJyKz08YAI5VKaGECXwIZ9WhpH2BWmPgiEk8A1L3yl6T9u1sDOp+iKppXCWWScVdHH4wQV0mEYwJAK63ZZNA63CTM/BCDgBoGWj3+h9dv+1ls3NleTqiXdCBGYOenjgZHKlUQxgK5gDf+kNI7wa0yFEAgbgV1796tWn0lOWQseaqdjC+cPW4nZqoc+ni1coRuMAQydpN4UROPwhjNRIACB5BFYvH67zn96lkoUzKtv+5ydvIkDOhN9PKDCJSltDGCSQEZtGhpH1BSnXggEn8D7C9frjjcW6tQqJTS+Z4sjF7R9uzRunPTOO9Ivv0g7d0qFC0sVKkgXXyxdfbVUNL49B22mRh+3WR33c8MAus84lBFoHKGUlaIgEGoCT05erqe/WKGup1bU4xfXzVjrunXSgAHSK69If/11ZBaFCkndukm9ekkVKwaWGX08sNIlJXEMYFIwRm8SGkf0NKdiCASdQM9xC/Tpkl/10Hk19Y9W1Q4tZ/Zs6cILpa1b4y/z2GOlDz6QWhzlbmL8s3k+kj7uOXKrAmIArZIjOMnQOIKjFZlCAAL/IXDmk9P08+a/nA2gzUbQ6Ycxf+3aSbt3Zx9VgQLSlClSy5bZP9fnM+jjPgvgc3gMoM8CBDU8jSOoypE3BKJJYM/+A84K4AOpaZr3wJkqW6zAf0CYx77162e885c7t9Sxo9S5s1SmjLRpkzRhgvT++1Jq6qEQzZ3Ab78N3ONg+ng0/y7EqsYARlv/hKuncSSMjhMhAAEfCCz/dYfOGTpDRfLn0Xd9z1auXLn+k8VNN0kjRhya0TnnSKNGSZUy2Sh67VrphhukSf/ZTib96NlTGj7ch8oSD0kfT5xdGM7EAIZBRR9qoHH4AJ2QEIBAwgQ+XLRBt73+rRpWKq4JN//3ce2ff0rlyh264MOYv48+kvLkOXKs/ful888/1ASaVcLr1wdqdTB9POHLKRQnYgBDIaP3RdA4vGdORAhAIHECT332o/79+U/q0riinrjkvyuAn3lGuu22/01qHvuuWhXfo1xzJ7BaNenAgf+db+a75ZbEk/T4TPq4x8AtC4cBtEyQoKRD4wiKUuQJAQgYAje9skATFx+2Avj006Vp0/4H6KKL/rP3X7yHGf/uu/8b3batNHVqvGf7Po4+7rsEviaAAfQVf3CD0ziCqx2ZQyCKBNo9NV0rftupGmWLqHSR/3wCbnCvS1T2t1/ScQzv8bDmNO+QAU+DisV119knZ8RmNos2m0LHjpNOkn78MTB46eOBkcqVRDGArmAN/6Q0jvBrTIUQCBOBM56cppWbD93c+atnuum4v/5IL/Oqyx7RrKoNMi3bLBwpWiDvoT+bPFky7wzGjrJlpY0bA4ONPh4YqVxJFAPoCtbwT0rjCL/GVAiBMBHYsO1vzVv5+yElnd2plQqvW53+375+ZJjWnXtR+v+/cftuDZ60XAXypuiH/u3/t3I4NoI7gGG6RCJXCwYwcpInp2AMYHI4MgsEIOAjgSzeAZy6/Ddd++LXzmPjT/+vdcZEeQfQR/EInVMCGMCcEozo+RjAiApP2RAIE4EsVgG/OHuV+n24VO1rl9WIbo0OrdysAq5a9dBNoVkFHKarI/S1YABDL7E7BWIA3eHKrBCAgIcEstgH8OH3F+uluWvUs80Jur9Djf8lZvYBPO88ybwDGDvYB9BD4QiVDAIYwGRQjOAcGMAIik7JEAgjgaN8CeSaKb9q+o+b9fhFp6hrk/9+FcTc+bv++kPNn+HCl0DCeHWEuiYMYKjlda84DKB7bJkZAhDwkID5FnCDBtLvhy4QUe7cmlGzud6t3EQ3XNpcNVP+/s+3gD/4gG8BeygPodwjgAF0j22oZ8YAhlpeioNAtAjMni21ayft3p39ugsUkD7/XGrRIvvn+nwGfdxnAXwOjwH0WYCghqdxBFU58oYABDIlYExgx44Z7wQeDdexx/7njmAAzZ8piz4e7b8LGMBo659w9TSOhNFxIgQgYCsB8zh44EDJ7O/316GbRh+SslnwcdVVUq9e8X032NJ66eOWCuNRWhhAj0CHLQyNI2yKUg8EIJBO4M8/NfvhIUqZ8I6q7d2uMtorFSkilS8vXXKJ1K2bVLRo4IHRxwMvYY4KwADmCF90T6ZxRFd7KodAFAj0evd7vfblWt16+om655xMvgMcAgj08RCImIMSMIA5gBflU2kcUVaf2iEQfgKXj5qnuSt/15OX1tPFjSqEsmD6eChljbsoDGDcqBh4MAEaB9cDBCAQZgLNBn6uX//crXdvbqEGlUqEslT6eChljbsoDGDcqBiIAeQagAAEokDgrz37VfvhSU6pi/qcrWIF84aybAxgKGWNuygMYNyoGIgB5BqAAASiQGDx+u06/+lZOrZQPi3ofVZoS8YAhlbauArDAMaFiUGHE6BxcE1AAAJhJfDhog267fVv1bhyCb19U/A2eI5XF/p4vKTCOQ4DGE5dXa+KxuE6YgJAAAI+ERg25ScNmfKjLm1UQYMvredTFu6HpY+7z9jmCBhAm9XJRm7PPfecBg8erI0bN6p27doaOnSoWrVqdcQZzM+HDx+utWvXqlSpUrrkkkv02GOPqYD5rFEcB40jDkgMgQAEAknA3P0zdwEf6FBDN7Y5IZA1xJM0fTweSuEdgwEMgbZvvvmmunXrJmMCW7ZsqZEjR2rMmDFaunSpKlWqlKHCV199VT169NALL7ygFi1a6Mcff1T37t3VpUsXDRkyJC4iNI64MDEIAhAIIIFzh83U0o1/aszVjdWuVpkAVhBfyvTx+DiFdRQGMATKNm3aVA0bNnTu6MWOmjVrqlOnTs5dvcOPW2+9VT/88IM+Nx8w/+9x991366uvvtLMmTPjIkLjiAsTgyAAgYARSE1NU62HP9Xufamaek9bVS1VKGAVxJ8ufTx+VmEciQEMuKp79+5VwYIFNX78eHXu3Dm9mjvuuEMLFy7U9OnTM1T4xhtvqGfPnpo8ebKaNGmilStX6rzzztM111yj+++/P1Mie/bskfkTO0zjqFixorZv366iIfgkUsAvA9KHAASSRGDd1l1qNWiq8uVO0dL+5yhP7pQkzWzfNBhA+zTxMiMMoJe0XYi1YcMGlS9fXrNnz3Ye58aOgQMH6qWXXtLy5cszjfr000/L3PVLS0vT/v37ddNNNzmPkI909O3bV/369cvwYwygC6IyJQQg4BuBact/U/cXv1b1MoU1+c42vuXhRWAMoBeU7Y2BAbRXm7gyixnAOXPmqHnz5unnDBgwQOPGjdOyZcsyzDNt2jR17dpVjz76qMzj4xUrVsjcMbz++uvVu3fvTONyBzAuORgEAQgEnMDzs1bpkY+WqkOdshp+VaOAV3P09DGAoZY3y+IwgFkisntAIo+AzergZs2aOauGY8crr7yiG264QTt37lRKStaPPGgcdl8XZAcBCCRG4IEJ3+v1r9bqkkYV1L1FlUwnKVusgEoVzp9YAIvOoo9bJIYPqWAAfYCe7JDmLl6jRo0OeYRbq1YtdezYMdNFIGZsu3bt9MQTT6Sn8vrrr+u6665zDGDu3LmzTJHGkSUiBkAAAgEkcOWYeZq94vejZm7eD5z2z7YqV/yYAFb4v5Tp44GWL8fJYwBzjND/CWLbwIwYMcJ5DDxq1CiNHj1aS5YsUeXKlXX11Vc77wnGVgSb9/meeuopZ1zsEbB5B9AYQzNXPAeNIx5KjIEABIJGwNz9e/rzn3QgLS3T1Df9+Z/FcJ/c3kq1yhUNWnmH5EsfD7R8OU4eA5hjhHZMYBZwDBo0yNkIuk6dOs5+fq1bt3aSa9u2rapUqaKxY8c6/79Z9BF7R3D9+vUqXbq0LrjgAue/FS9ePK6CaBxxYWIQBCAQIgLbdu1V/f6fORWZFcIF8+UJdHX08UDLl+PkMYA5RhjNCWgc0dSdqiEQZQLfrv1DnZ+bozJF8+vLXu0Cj4I+HngJc1QABjBH+KJ7Mo0jutpTOQSiSmDCN7/orrcWqWnVknrzxv/tuhBUHvTxoCqXnLwxgMnhGLlZaByRk5yCIRB5Ak9NXq5/f7FClzepqMcuqht4HvTxwEuYowIwgDnCF92TaRzR1Z7KIRBVAre9/q0+XLRBD3SooRvbnBB4DPTxwEuYowIwgDnCF92TaRzR1Z7KIRBVAhc8PUvfr9+ukd0a6ZzaZQOPgT4eeAlzVAAGMEf4onsyjSO62lM5BKJIwHw2s27fydqxZ78m39la1csUCTwG+njgJcxRARjAHOGL7sk0juhqT+UQiCKBLTv3qPGjU5Qrl/RD//YqkDfrDfNt50Qft10hd/PDALrLN7Sz0zhCKy2FQQACmRD4cuXv6jJqniqWPEYz7z0jFIzo46GQMeEiMIAJo4v2iTSOaOtP9RCIGgHzhRDzneA21UvrpeuahKJ8+ngoZEy4CAxgwuiifSKNI9r6Uz0EokZgwMdLNXrmKl3bsooevqB2KMqnj4dCxoSLwAAmjC7aJ9I4oq0/1UMgagR6jP1any/7TY90qqNuzSqHonz6eChkTLgIDGDC6KJ9Io0j2vpTPQSiRuD0f03Tqi1/6bV/NFWLE0uFonz6eChkTLgIDGDC6KJ9Io0j2vpTPQSiRGDv/lTV7POpDqSmad4DZ6pssQKhKJ8+HgoZEy4CA5gwumifSOOItv5UD4EoEVjx2061e2q68uVJ0Ye3nuZsBZPokZJLqlaqsFLM//D5oI/7LIDP4TGAPgsQ1PA0jqAqR94QgEB2CXyxbJOuGzs/u6cdcfzFDSvoycvqJW2+RCeijydKLhznYQDDoaPnVdA4PEdOQAhAwCcCv27frR4vfS3zf3Ny7N53QH/tPaCmVUvqzRub52SqpJxLH08KxsBOggEMrHT+Jk7j8Jc/0SEAgeARGDXjZw38ZJk61i+nYV0b+F4Afdx3CXxNAAPoK/7gBqdxBFc7MocABPwh0O/DJXpx9mrd2KaaHuhQ058kDopKH/ddAl8TwAD6ij+4wWkcwdWOzCEAAX8I3PzqAn3y/a/qe0EtdW9Z1Z8kMIC+c7clAQygLUoELA8MYMAEI10IQMB3Ap2fm61v127TiKsaqX2dsr7nQx/3XQJfE8AA+oo/uMFpHMHVjswhAAF/CDR/7HNt3L5b793SUvUrFvcnCe4A+s7dlgQwgLYoEbA8MIABE4x0IQABXwmYTaSrPzTR2Uz6y15nqkxR/zeTpo/7ekn4HhwD6LsEwUyAxhFM3cgaAhDwh8CmP3er6cDPlTsll358tIPzf/0+6ON+K+BvfAygv/wDG53GEVjpSBwCEPCBwLdr/1Dn5+bo+GIFNPeBM33IIGNI+rgVMviWBAbQN/TBDkzjCLZ+ZA8BCHhL4JPvN+rmV79Ro8ol9M5NLbwNfoRo9HErZPAtCQygb+iDHZjGEWz9yB4CEPCWwJiZK/Xoxz/o/LrH65krGnobHANoBW/bksAA2qZIQPLBAAZEKNKEAASsIND/w6V6YfYq3di6mh441/9NoA0U+rgVl4ZvSWAAfUMf7MA0jmDrR/YQgIC3BG56ZYEmLrZnE2gMoLf62xgNA2ijKgHICQMYAJFIEQIQsIZAx2dmadEv2zWqWyOdXdv/TaAxgNZcGr4lggH0DX2wA2MAg60f2UMAAt4SOHXAFG3esUcf3Xaa6pQv5m3wI0Sjj1shg29JYAB9Qx/swDSOYOtH9hCAgHcE9uw/oJMf+tQJ+E3vs1SyUD7vgh8lEn3cChl8SwID6Bv6YAemcQRbP7KHAAS8I7D2911qPXiq8udJ0bJH2itXLv83gTbV08e9uwZsjIQBtFGVAORE4wiASKQIAQhYQWDOz1t0xegvVa1UIX1xT1srcsIAWiODb4lgAH1DH+zAGMBg60f2EICAdwTGz1+nf779nVqdVErjejT1LnAWkejj1kjhSyIYQF+wBz8ojSP4GlIBBCDgDYGhU37U0Ck/6fImFfXYRXW9CRpHFPp4HJBCPAQDGGJx3SyNxuEmXeaGAATCROCe8Yv09oJfdM/Z1XXrGSdZUxp93BopfEkEA+gL9uAHpXEEX0MqgAAEvCFw+ah5mrvydw3pUk+dG1TwJmgcUejjcUAK8RAMYIjFdbM0GoebdJkbAhAIE4HWg6Zq7dZdeuvG5mpStaQ1pdHHrZHCl0QwgL5gD35QGkfwNaQCCEDAfQIHUtNUo/dE7TuQpjn3n6FyxY9xP2icEejjcYIK6TAMYEiFdbssGofbhJkfAhAIA4GN2/9W88e+UJ6UXFr+aAflTrFjD0DDlj4ehiss8RowgImzi/SZNI5Iy0/xEIBAnATmr96qS0bMVYUSx2jWfWfEeZY3w+jj3nC2NQoG0FZlLM+LxmG5QKQHAQhYQWDCN7/orrcWqXm1Y/X6Dc2syCmWBH3cKjk8TwYD6DnycASkcYRDR6qAAATcJTBsyk8aMuVHdWlcUU9cYs8egDwCdlf3IMyOAQyCShbmiAG0UBRSggAErCNg6x6AGEDrLhXPE8IAeo48HAExgOHQkSogAAF3CVw2cq6+WrVVw7rWV8f65d0Nls3Z6ePZBBay4RjAkAnqVTk0Dq9IE+GoEHUAACAASURBVAcCEAgygRaPfa4N23drws0t1LBSCatKoY9bJYfnyWAAPUcejoA0jnDoSBUQgIB7BPbuT9XJvScqLU36+sF2Kl0kv3vBEpiZPp4AtBCdggEMkZhelkLj8JI2sSAAgSASWL3lL7X91zQdkze3lvY/R7ly2bMHoOFJHw/iVZW8nDGAyWMZqZloHJGSm2IhAIEECMz4cbOufuErVS9TWJPvbJPADO6eQh93l6/ts2MAbVfI0vxoHJYKQ1oQgIA1BMbNW6Pe7y1Wu5rHacw1p1qTVywR+rh1kniaEAbQU9zhCUbjCI+WVAIBCLhDYMDHSzV65ir1OK2qep9fy50gOZiVPp4DeCE4FQMYAhH9KIHG4Qd1YkIAAkEicP3L8/XZ0k3q37G2rm5exbrU6ePWSeJpQhhAT3GHJxiNIzxaUgkEIOAOgXOGzNDyTTs09tpT1fbk49wJkoNZ6eM5gBeCUzGAIRDRjxJoHH5QJyYEIBAUAmlpaarZ51Pt3peqafe0VZVShaxLnT5unSSeJoQB9BR3eILROMKjJZVAAALJJ7Dpz91qOvBz5U7JpWWPtFfe3CnJD5LDGenjOQQY8NMxgAEX0K/0aRx+kScuBCAQBAJfrvxdXUbNU6WSBTXj3tOtTJk+bqUsniWFAfQMdbgC0TjCpSfVQAACySXw1vx1uvft79TqpFIa16NpcidP0mz08SSBDOg0GMCACud32jQOvxUgPgQgYDOBwZOW6dmpP+vKppU0oPMpVqZKH7dSFs+SwgB6hjpcgWgc4dKTaiAAgeQSuPnVBfrk+1+d/f/MPoA2HvRxG1XxLicMoHesQxWJxhEqOSkGAhBIMoH2Q2do2a879GL3U3V6Dfu2gDHl0seTLHrApsMABkwwW9KlcdiiBHlAAAK2EUhNTVOth+3eAgYDaNtV430+GEDvmYciIgYwFDJSBAQg4AKBDdv+VovHv1Ce/24Bk8fCLWAwgC4IH7ApMYABE8yWdDGAtihBHhCAgG0EZq/YoivHfKlqpQvpi7vb2pZeej70cWul8SQxDKAnmN0P8txzz2nw4MHauHGjateuraFDh6pVq1ZHDLxt2zY9+OCDmjBhgv744w9VrVpVTz75pM4999y4kqVxxIWJQRCAQAQJjJu3Rr3fW6x2NY/TmGtOtZYAfdxaaTxJDAPoCWZ3g7z55pvq1q2bjAls2bKlRo4cqTFjxmjp0qWqVKlShuB79+51xh133HHq1auXKlSooHXr1qlIkSKqV69eXMnSOOLCxCAIQCCCBPp/uFQvzF6l61tV1YPn1bKWAH3cWmk8SQwD6Almd4M0bdpUDRs21PDhw9MD1axZU506ddJjjz2WIfiIESOcu4XLli1T3rx5E0qOxpEQNk6CAAQiQODaF7/S1OWbNbDzKbqiacZfwm1BQB+3RQl/8sAA+sM9aVHN3byCBQtq/Pjx6ty5c/q8d9xxhxYuXKjp06dniGUe85YsWdI57/3331fp0qV1xRVX6L777lPu3Lnjyo3GERcmBkEAAhEk0HrQVK3dukuvX99MzU841loC9HFrpfEkMQygJ5jdC7JhwwaVL19es2fPVosWLdIDDRw4UC+99JKWL1+eIXiNGjW0evVqXXnllbr55pv1008/6ZZbbpExjX369Mk02T179sj8iR2mcVSsWFHbt29X0aJF3SuQmSEAAQgEiMDufQdUs8+nSkuTvn6wnUoXyW9t9hhAa6XxJDEMoCeY3QsSM4Bz5sxR8+bN0wMNGDBA48aNcx7zHn5Ur15du3fv1qpVq9Lv+D311FPpi0gyy7Zv377q169fhh9hAN3TlpkhAIHgEfhh45/qMGymih2TVwv7nKVcuXJZWwQG0FppPEkMA+gJZveCJPIIuE2bNs67f1OmTElPbOLEic4KYHOXL1++fBkS5g6gexoyMwQgEB4CHy7aoNte/1aNKpfQOzf976mMjRViAG1UxbucMIDesXYtklkE0qhRI2cVcOyoVauWOnbsmOkiELPy97XXXtPKlSuVkpLinDJs2DA98cQTMncU4zloHPFQYgwEIBA1AkM++1HDPv9JlzWuoEGXxLergl+M6ON+kbcjLgbQDh1ylEVsGxizutc8Bh41apRGjx6tJUuWqHLlyrr66qud9wRjK4LNli/GIHbv3l233Xab8w7gddddp9tvv93ZGzCeg8YRDyXGQAACUSNw62vf6KPvNqrXuTV0Q+sTrC6fPm61PK4nhwF0HbE3Aczdv0GDBjkbQdepU0dDhgxR69atneBt27ZVlSpVNHbs2PRk5s6dqzvvvNNZKWzMYY8ePVgF7I1URIEABEJMoP3QGVr26w49f01jnVmzjNWVYgCtlsf15DCAriMOZwAaRzh1pSoIQCBxAgdS01Srz6fasz9V0//ZVpWPLZT4ZB6cSR/3ALLFITCASRYn3nfosgpbrly5rIb4+nMah6/4CQ4BCFhIYM3vf6nN4GnKlydFP/Rvr9wp9q4ANvjo4xZeRB6mhAFMMmyzqCKny/7N+fv3709yZsmdjsaRXJ7MBgEIBJ/AZ0s36fqX56vW8UX1yR1H/ha7LZXSx21Rwp88MIBJ5m6+q5tTA2hSMgs1bD5oHDarQ24QgIAfBJ6dukKDJy1X5wblNaRLfT9SyFZM+ni2cIVuMAYwdJJ6UxCNwxvORIEABIJD4PbXv9UHizbo3vYn6+a2J1qfOH3ceolcTRAD6Cre8E5O4wivtlQGAQgkRiBIK4BNhfTxxHQOy1kYwLAo6XEdNA6PgRMOAhCwmsC+A6mq3WeS9h5I1cx7T1fFkgWtzhcDaL08rieIAXQdcTgDYADDqStVQQACiRFY8dsOtXtqhgrmy63Ffc9RiuUrgDGAiekcprMwgElWs3r16jme0SwiWb58eY7ncXMCDKCbdJkbAhAIGoGPv9uoW177RvUqFtf7t7QMRPr08UDI5FqSGMAko419Wzcn0xoDeODAgZxM4fq5NA7XERMAAhAIEIGnPvtR/w7IN4BjWOnjAbrAXEgVA5hkqD///HNSZjzhBL4hmRSQTAIBCEDAAwI3vDxfk5du0kPn1dQ/WlXzIGLOQ2AAc84wyDNgAIOsno+50zh8hE9oCEDAOgKtBn2hdVv/1mv/aKoWJ5ayLr/MEqKPB0Im15LEALqGNtwT0zjCrS/VQQAC8RPYsXufTuk72Tnh295nqUShfPGf7ONI+riP8C0IjQG0QIQgpkDjCKJq5AwBCLhB4OvVW3XpiLkqW7SA5vU6040QrsxJH3cFa2AmxQB6KNXatWv11ltvadGiRdq6dav27duXaXSzCGTSpEkeZpb9UDSO7DPjDAhAIJwEXp67Wn3eX6LTTy6tF69tEpgi6eOBkcqVRDGArmDNOOmQIUN0//33a//+/ek/TEtLS//fse8Hm//GKmCPRCEMBCAAgSQQeGDCd3r9q3W6ue0Jurd9jSTM6M0UGEBvONsaBQPogTKffvqpzj33XJUpU0b9+vXT008/raVLl+qTTz7RunXrnDuCY8eOVWpqqgYOHKg6derozDPtfoxA4/DgwiEEBCAQCAIdn52tReu26enLG+iCeuUCkbNJkj4eGKlcSRQD6ArWQyc15s880p02bZpatWrl/JkzZ84he/1t3rxZF198sb7//nvNnz9fbAPjgTCEgAAEIJBDAgdS01T74U+1e1+qptzVRiceVziHM3p3OgbQO9Y2RsIAeqDKcccdp3z58umXX35xomVmAM1/X79+vapWraquXbvq5Zdf9iCzxEPQOBJnx5kQgEB4CKz4bafaPTVdBfKmaEm/9sodgE/AxejTx8NzHSZSCQYwEWrZPKdAgQKqV6+evvzyS+fMdu3aaerUqdq2bZuKFClyyGwNGzbUpk2bHDNo80HjsFkdcoMABLwi8P7C9brjjYVqWKm4JtwcjE/AYQC9ujrsjoMB9ECfSpUqqVChQvrhhx+caFdeeaXeeOMNxxA2btz4kAzMt4TNauHdu3d7kFniITCAibPjTAhAIDwEHv1oqcbMWqVrmldWv451AlUYfTxQciU9WQxg0pFmnLBt27b69ttvtX37dueHw4YN05133qkePXpo9OjR6SeYdwTPOOMM5zFwsj4p51Z5NA63yDIvBCAQJAJdRs7Vl6u2avAldXVp44pBSp1FIIFSK/nJYgCTzzTDjI8//rgefPDB9Dt+ZsHHSSedpB07dqh169Zq1qyZ89jX3BXcs2ePM7Z///4eZJZ4CAxg4uw4EwIQCAeB1NQ01e03WTv37Nen/9dKNcoWDVRh9PFAyZX0ZDGASUeaccKVK1fqkUceUZcuXdS+fXtnwMSJE3X55Zc7v4EdfHTq1MnZLDpPnjweZJZ4CBpH4uw4EwIQCAeBlZt36ownpyt/HrMA5BzlyZ0SqMLo44GSK+nJYgCTjjT+Cf/44w99/PHHWr16tY455hiddtppatq0afwT+DiSxuEjfEJDAAJWEIgtAKlfsbjeuyVYC0AMQPq4FZeRb0lgAH1DH+zANI5g60f2EIBAzgkM+HipRs9cpW7NKuuRTsFaAIIBzLn+QZ8BAxh0BX3KHwPoE3jCQgAC1hC4fNQ8zV35uwZdXFeXnRqsBSAYQGsuI98SwQB6gH7mzJnOO4CXXnqprr/++iNGHDVqlN5++23nc3HNmzf3ILPEQ2AAE2fHmRCAQPAJmC+A1PvvApCJd7RSzeODtQAEAxj8azCnFWAAc0owjvO7d++ucePGacGCBapfv/4Rz1i4cKHMRtDXXXedxowZE8fM/g3BAPrHnsgQgID/BH7ctENnD5mhgvly6/u+5wTqCyAxevRx/68jPzPAAHpA/+STT9bvv/+uLVu2ZBmtdOnSOvbYY7Vs2bIsx/o5gMbhJ31iQwACfhN46+t1uved79S0akm9eaPdT2yOxIo+7vdV5G98DKAH/M1XQGrVqqWvv/46y2innnqqY/7MHoE2HzQOm9UhNwhAwG0CD0z4Xq9/tVY3tqmmBzrUdDucK/PTx13BGphJMYAeSFWiRAmVLVs2/VNwRwtZs2ZNbdiwIf2rIR6kl1AIGkdC2DgJAhAICYEOw2bqh41/asRVDdW+zvGBrIo+HkjZkpY0BjBpKI88kfnSh7n7t3z5cp144olHHLhixQqZbwGb9wDnz5/vQWaJh6BxJM6OMyEAgWAT2LV3v+o8PEmpadK8B85U2WIFAlkQfTyQsiUtaQxg0lAeeaLBgwfrvvvuc1b2fvLJJypWrFiGweYvYocOHTRv3jwNGDBA999/vweZJR6CxpE4O86EAASCTeDLlb+ry6h5Klu0gOb1OjOwxdDHAytdUhLHACYF49En2bVrl3NX76effnIeBZutYMwXP4oXL65t27Y5pu/55593Hv2aO4DffPONChYs6EFmiYegcSTOjjMhAIFgExg5/Wc9NnGZ2tcuqxHdGgW2GPp4YKVLSuIYwKRgzHqSNWvWyHznd9GiRcqVK1eGE9LS0tSgQQNNmDBBlStXznpCn0fQOHwWgPAQgIBvBHqOW6BPl/yq+zvUUM82J/iWR04D08dzSjDY52MAPdTvwIEDGj9+vN5//31nQYj5y1ekSBHVrl3bMYcXX3yxcufO7WFGiYeicSTOjjMhAIHgEjC/rJ86YIq27Nyrd25qrkaVSwa2GPp4YKVLSuIYwKRgjN4kNI7oaU7FEICAtGrLXzr9X9OUL0+Kvu97tvLnCcYv7ZlpRx+P9hWNAYy2/glXT+NIGB0nQgACASbw1vx1uvft73RqlRIa37NFgCuR8xTKLErcvn27ihYN3qfsAg3fguQxgB6KsG/fPucdv+nTp2v9+vXavXu3Jk2alJ7BV199pZ07d6pNmzbWPwqmcXh44RAKAhCwhsB9b3+nN+ev001tT9B97WtYk1ciidDHE6EWnnMwgB5pacxd165dZRaDmHdIzGEWg5j3AmPHvffeqyeffFKffvqpzjrrLI8ySywMjSMxbpwFAQgEm8AZT07Tys1/6YXujXVGjTKBLoY+Hmj5cpw8BjDHCLOeYNWqVc42MOY2e8eOHXXhhRc6Rs8sBDnYAH7//feqV6+ebrjhBo0YMSLriX0cQePwET6hIQABXwj8vnOPGj06xYm9sM9ZKl4wny95JCsofTxZJIM5DwbQA9169OihF198Uf3799dDDz3kRGzVqpXmzJlziAE0//3YY491toExewHafNA4bFaH3CAAATcITFryq24ct0DVyxTW5DvbuBHC0znp457iti4YBtADSSpVquS8bPvHH3+k7wF4JAPYqFEjrVu3Tr/99psHmSUegsaRODvOhAAEgklgwMdLNXrmKl3RtJIGdj4lmEUclDV9PPAS5qgADGCO8MV3cv78+XXKKacc8n3fIxlA84WQ7777Tn///Xd8k/s0isbhE3jCQgACvhG44OlZ+n79dg3tUl+dGpT3LY9kBaaPJ4tkMOfBAHqgW5kyZZSSkqKNGzemRzuSASxdurTzGTizWMTmg8ZhszrkBgEIJJvA9l371OCRyUpNk77sdabKFC2Q7BCez0cf9xy5VQExgB7IccEFF+iTTz7RjBkz1LJlSydiZgbwgw8+cL4Icvnll+vVV1/1ILPEQ9A4EmfHmRCAQPAITF7yq24Yt0DVShfSF3e3DV4BmWRMHw+FjAkXgQFMGF38J06cOFHnnXeeTjrpJGcfQPPpt8MNoFkQ0rlzZ23ZskUzZ85UixZ2bzBK44hff0ZCAALBJ9DvwyV6cfZqXdm0kgaE4P0/owh9PPjXZU4qwADmhF42zr3tttv07LPPKm/evDr11FO1YsUKbd68Wddcc40WL16sBQsWOPsDmr0AH3/88WzM7M9QGoc/3IkKAQj4Q6D90Bla9usOPXNFA51ft5w/SSQ5Kn08yUADNh0G0EPBjAHs16+fc5fv8KNkyZLq27evbr31Vg8zSjwUjSNxdpwJAQgEi8DWv/aq4SOfOUnPf6idShXOH6wCjpAtfTwUMiZcBAYwYXSJnbh3717NmjVLZtNnszF04cKFVatWLefzb8ccc0xik/pwFo3DB+iEhAAEfCEw8fuNuunVb3RymSKadGdrX3JwIyh93A2qwZkTA2iZVsYgvvDCC+rZs6dlmR2aDo3DanlIDgIQSCKB3u8t1rh5a9S9RRX1vbB2Emf2dyr6uL/8/Y6OAfRbgf/G37Vrl4YPH66nnnpKv/76a4YvhFiSZnoaNA7bFCEfCEDALQKx7/+OuKqR2tcp61YYz+elj3uO3KqAGEAX5TCPeCdPnqzVq1c7e/vVr18/fRuYWNidO3c6pu/f//6386UQsxCkXLly+uWXX1zMLOdT0zhyzpAZIAAB+wms27pLrQZNVe6UXPq2z1kqWiCv/UnHmSF9PE5QIR2GAXRJWLOP3y233KIdO3YcEuG0006T2e+vWLFieu2113THHXdo69atjvGrWbOm7rnnHl111VXOamGbDxqHzeqQGwQgkCwCr365Rg++u1inVimh8T3t3p4ruzXTx7NLLFzjMYAu6Dl//nw1b97ceYxbqFAhVa9eXeYR788//+z8t65du6px48aO2TPGr1mzZrr//vt14YUXupCNO1PSONzhyqwQgIBdBG4cN1+TlmzS3WdV121nnmRXcjnMhj6eQ4ABPx0D6IKA3bp1c77kcemll2rMmDEqUqSIE+Wnn35yNntevny5c4fPrAAePXq0Onbs6EIW7k5J43CXL7NDAAL+E9h3IFUN+n+mnXv264NbW6puheL+J5XEDOjjSYQZwKkwgC6IVq1aNW3atEkbNmxwHvUefEyZMkVnn322cuXK5WwHY+4UBvGgcQRRNXKGAASyQ+CrVVt12ci5Klkon+Y/2E4pKbmyc7r1Y+nj1kvkaoIYQBfwmv38zGPfRYsWZZjdvBNoTOEJJ5zg3BEM6kHjCKpy5A0BCMRLYPCkZXp26s/qWL+chnVtEO9pgRlHHw+MVK4kigF0AWtKSorMYo8ZM2ZkOrv5ecuWLZ1v/gb1oHEEVTnyhgAE4iVwwdOz9P367Xry0nq6uFGFeE8LzDj6eGCkciVRDKALWOMxgEcziC6klPQpaRxJR8qEEICARQS27Nyjxo9OcTL66sEzdVyRAhZll5xU6OPJ4RjUWTCALihnDKB5BNyrV69MZ+/evftRf25Ouvrqq13ILHlT0jiSx5KZIAAB+wi8NX+d7n37O9UuV1Qf397KvgSTkBF9PAkQAzwFBtAF8YwBNIs8Ej3Mufv370/0dE/Oo3F4gpkgEICATwSuf3m+Plu6Sf/X7iT9X7vqPmXhblj6uLt8bZ8dA+iCQlWqVMmRATQprVq1KluZPffccxo8eLA2btyo2rVra+jQoWrVKuvfWt944w1dfvnlzlY07733XtwxaRxxo2IgBCAQMAK79x1Q/f6TtXtfqj667TTVKX/obg4BK+eI6dLHw6JkYnVgABPjZtVZb775pszeg8YEmsUlI0eOdPYfXLp0qSpVqnTEXNesWeOMN9vWlCxZEgNolaokAwEI+EVgytJN+sfL81W++DGadd/pOf6F3q86soqLAcyKULh/jgEMgb5NmzZVw4YNNXz48PRqzGflOnXqpMceeyzTCs0XSdq0aaNrr73WWY28bds2DGAIrgVKgAAEck7g/ne+0xtfr9M1zSurX8c6OZ/Q0hkwgJYK41FaGECPQLsVZu/evSpYsKDGjx/vfGUkdphvDC9cuFDTp0/PNPTDDz+s7777Tu+++67MohQMoFsKMS8EIBAkAqmpaWoy8HOZVcDjejRRq5NKByn9bOWKAcwWrtANxgAGXFLztZHy5ctr9uzZatHifx8qHzhwoF566SXns3OHH2Zsly5dHINYqlSpuAzgnj17ZP7EDtM4KlasqO3bt6to0aIBp0j6EIAABP5DYMGaP3Tx8Dkqkj+PFvQ+S/nypIQWDQYwtNLGVRgGMC5M9g6KGcA5c+Yc8lm5AQMGaNy4cVq2bNkhyZsvkdStW9d5X7BDhw7Oz+K5A9i3b1/169cvAwgMoL3XBplBAALZJ/DEp8s0fNrPOr/u8XrmiobZnyBAZ2AAAySWC6liAF2A6uWU2X0EbO76NWjQQLlz505PMzU11fnfZvsac8fQfKbu8IM7gF6qSiwIQMAPAmlpaTrzqelaufkvDetaXx3rl/cjDc9iYgA9Q21lIAyglbJkLymzCKRRo0bOXb3YUatWLWdrl8MXgezevVsrVqw4JMBDDz0kc2dw2LBhzgbV+fLlyzIBGkeWiBgAAQgEjMDSDX/q3H/PdB77LnionYoUyBuwCrKXLn08e7zCNhoDGAJFY9vAjBgxwnkMPGrUKI0ePVpLlixR5cqVna+KmPcEj7QiOJ5HwIdjonGE4MKhBAhA4BACgz5dpuem/axzapfRyG6NQ0+HPh56iY9aIAYwJPqbu3+DBg1yNoKuU6eOhgwZotatWzvVtW3bVmZz6rFjx2ZaLQYwJBcBZUAAAgkTMI9/2wyeprVbd+npyxvognrlEp4rKCdiAIOilDt5YgDd4Rr6WWkcoZeYAiEQKQLf/bJNFz4zW8fkza0FvdupYL48oa+fPh56ibkDGG2J3amexuEOV2aFAAT8ITDwkx80asZKnVf3eD0b8tW/McL0cX+uNVuicgfQFiUClgeNI2CCkS4EIHBEAubx72lPTNX6bX9rxFUN1b7O8ZGgRR+PhMxHLBIDGG39E66expEwOk6EAAQsIxDb/LlQPvP49ywVyPu/bbIsSzWp6dDHk4ozcJNhAAMnmR0J0zjs0IEsIACBnBPo9+ESvTh7tTrVL6ehXRvkfMKAzEAfD4hQLqWJAXQJbNinpXGEXWHqg0A0COw7kKpmAz/X73/t1QvdG+uMGmWiUbgk+nhkpM60UAxgtPVPuHoaR8LoOBECELCIwOQlv+qGcQtUqnB+zXvgDOXJHd5v/x6OnT5u0YXoQyoYQB+ghyEkjSMMKlIDBCBw/cvz9dnSTbqhdTX1OrdmpIDQxyMld4ZiMYDR1j/h6mkcCaPjRAhAwBICW3bucR7/7k9N0+Q7W6t6mSKWZOZNGvRxbzjbGgUDaKsyludF47BcINKDAASyJDBm5ko9+vEPqlehmN6/9bQsx4dtAH08bIpmrx4MYPZ4Mfq/BGgcXAoQgECQCZi9/zoMm6llv+7QI53qqFuzykEuJ6Hc6eMJYQvNSRjA0EjpbSE0Dm95Ew0CEEgugcXrt+v8p2cpX54Ufd2rnYoVzJvcAAGYjT4eAJFcTBED6CLcME9N4wizutQGgfAT6PvBEo2ds1rlix+jSxtXsKrgCiUKqnOD8sqdksvVvOjjruK1fnIMoPUS2ZkgjcNOXcgKAhCIj8A5Q2Zo+aYd8Q32YdS7N7dQg0olXI1MH3cVr/WTYwCtl8jOBGkcdupCVhCAQHwEZv60WZOW/Kq0tPjGezEqNU16/au1TqjP726jE0oXdjUsfdxVvNZPjgG0XiI7E6Rx2KkLWUEAAsElsHrLX2r7r2nKnydFS/u35xFwcKUMROYYwEDIZF+SGED7NCEjCEAg2AQ+XbxRPV/5RqeUL6YPb3N/Wxr6eLCvl5xmjwHMKcGInk/jiKjwlA0BCLhGYMhnP2rY5z/p0kYVNPjSeq7FiU1MH3cdsdUBMIBWy2NvcjQOe7UhMwhAIJgEbhw3X5OWbFLv82upx2lVXS+CPu46YqsDYACtlsfe5Ggc9mpDZhCAQDAJtBk8VWt+36VX/9FULU8s5XoR9HHXEVsdAANotTz2JkfjsFcbMoMABIJH4K89+1Wn7yRnVfKCh9rp2ML5XS+CPu46YqsDYACtlsfe5Ggc9mpDZhCAQPAIfLv2D3V+bo5KF8mvrx9s50kB9HFPMFsbBANorTR2J0bjsFsfsoMABIJFYNy8Ner93mK1rl5aL1/XxJPk6eOeYLY2CAbQWmnsTozGYbc+ZAcBCASLwD/HL9L4Bb/omedsIgAAIABJREFUtjNO1N1nn+xJ8vRxTzBbGwQDaK00didG47BbH7KDAASCRaD90Bla9usOjerWSGfXLutJ8vRxTzBbGwQDaK00didG47BbH7KDAASCQ2DX3v2q8/AkmU/BfdnrTJUpWsCT5OnjnmC2NggG0Fpp7E6MxmG3PmQHAQgEh8D81Vt1yYi5Oq5Ifn3l0QIQQ4c+HpxrxI1MMYBuUI3AnDSOCIhMiRCAgCcEnp+1So98tFTtapbRmGsaexITA+gZZmsDYQCtlcbuxDCAdutDdhCAQHAI/N8b3+q9hRt011nVdfuZJ3mWOH3cM9RWBsIAWimL/UnROOzXiAwhAIFgEDjjyWlaufkvvXjtqTr95OM8S5o+7hlqKwNhAK2Uxf6kaBz2a0SGEICA/QS2/71P9fpNdhL16gsgMSr0cfuvDzczxAC6STfEc9M4QiwupUEAAp4R+GLZJl03dr6qliqkqfe09SyuCUQf9xS3dcEwgNZJEoyEaBzB0IksIQABuwk88ekyDZ/2sy5rXEGDLqnnabL0cU9xWxcMA2idJMFIiMYRDJ3IEgIQsJvAJcPnaP6aPzTokrq6rHFFT5Olj3uK27pgGEDrJAlGQjSOYOhElhCAgL0Edu87oLp9J2vvgVRNu6etqpQq5Gmy9HFPcVsXDANonSTBSIjGEQydyBICELCXwFertuqykXNVqnB+ff3gmcqVK5enydLHPcVtXTAMoHWSBCMhGkcwdCJLCEDAXgLPTl2hwZOW69xTyuq5Kxt5nih93HPkVgXEAFolR3CSoXEERysyhQAE7CTQ/cWvNG35ZvU5v5auO62q50nSxz1HblVADKBVcgQnGRpHcLQiUwhAwD4CB1LTVL//ZO3YvV8f3Xaa6pQv5nmS9HHPkVsVEANolRzBSYbGERytyBQCELCPwMJ129Tp2dkqkj+Pvu1zlvLkTvE8Sfq458itCogBtEqO4CRD4wiOVmQKAQjYR+Dpz3/Sk5/9qHNql9HIbo19SZA+7gt2a4JiAK2RIliJ0DiCpRfZQgACdhG4dMQcfb36Dw3oXEdXNq3sS3L0cV+wWxMUA2iNFMFKhMYRLL3IFgIQsIfAjt37VL//ZzLvAc6893RVLFnQl+To475gtyYoBtAaKYKVCI0jWHqRLQQgYA+BSUt+1Y3jFvjy/d+DKdDH7bkm/MgEA+gH9RDEpHGEQERKgAAEfCHw0Hvf65V5a3V188rq37GOLzmYoPRx39BbERgDaIUMwUuCxhE8zcgYAhCwg0DrQVO1dusujbm6sdrVKuNbUvRx39BbERgDaIUMwUuCxhE8zcgYAhDwn8Ca3/9Sm8HTlCcllxY+fLYK58/jW1L0cd/QWxEYA2iFDMFLgsYRPM3IGAIQ8J/A2Nmr1PfDpWpataTevLG5rwnRx33F73twDKDvEgQzARpHMHUjawhAwF8CXUbO1Zertuqh82rqH62q+ZoMfdxX/L4HxwD6LkEwE6BxBFM3soYABPwjsHnHHjUdOEWpadKs+05XhRL+bP8SI0Af9+9asCEyBtAGFQKYA40jgKKRMgQg4CuBV79cowffXay6FYrpg1tP8zUXE5w+7rsEviaAAfQVf3CD0ziCqx2ZQwAC/hDo9vyXmvnTFt3XvoZuanuCP0kcFJU+7rsEviaAAfQVf3CD0ziCqx2ZQwAC3hP446+9ajxgivP1j2n3tFWVUoW8T+KwiPRx3yXwNQEMoK/4gxucxhFc7cgcAhDwnsBb89fp3re/U83ji2riHa28TyCTiPRxK2TwLQkMoG/ogx2YxhFs/cgeAhDwlsC1L36lqcs3666zquv2M0/yNvgRotHHrZDBtyQwgL6hD3ZgGkew9SN7CEDAOwI79+xXg/6Tte9AmvLnSVHe3CneBT8s0onHFdabNzZT/jy5WQTimwp2BMYA2qFD4LLAAAZOMhKGAAR8IvDn7n067fEv9Ofu/T5lcGjYT25vpVrlimIArVDDvyQwgP6xD3RkDGCg5SN5CEDAYwLmLuCWHXs8jnpouIuGz9HWv/YKA+irDNYExwBaI0WwEsEABksvsoUABCBw6oApMptRYwC5FgwBDCDXQUIEMIAJYeMkCEAAAr4RwAD6ht7KwBhAK2WxPykMoP0akSEEIACBgwlgALkeDiaAAeR6SIgABjAhbJwEAQhAwDcCGEDf0FsZGANopSz2J4UBtF8jMoQABCDAHUCugSMRwABybSREAAOYEDZOggAEIOAbAe4A+obeysAYQCtlyX5Szz33nAYPHqyNGzeqdu3aGjp0qFq1yvxzQ6NHj9bLL7+sxYsXO4EaNWqkgQMHqkmTJnEHxgDGjYqBEIAABKwggAG0QgZrksAAWiNF4om8+eab6tatm4wJbNmypUaOHKkxY8Zo6dKlqlSpUoaJr7zySmdcixYtVKBAAQ0aNEgTJkzQkiVLVL58+bgSwQDGhYlBEIAABKwhgAG0RgorEsEAWiFDzpJo2rSpGjZsqOHDh6dPVLNmTXXq1EmPPfZYlpMfOHBAJUqU0DPPPKOrr746y/FmAAYwLkwMggAEIGANAQygNVJYkQgG0AoZEk9i7969KliwoMaPH6/OnTunT3THHXdo4cKFmj59epaT79ixQ8cdd5wzx/nnn5/p+D179sj8iR3GAFasWFHbt29X0aJFs4zBAAhAAAIQ8JcABtBf/rZFxwDapkg289mwYYPz2Hb27NnOI93YYd7pe+mll7R8+fIsZ7zllls0adIk551A80g4s6Nv377q169fhh9hALPEywAIQAACVhDAAFohgzVJYACtkSKxRGIGcM6cOWrevHn6JAMGDNC4ceO0bNmyo05s3v97/PHHNW3aNNWtW/eIY7kDmJg+nAUBCEDAFgIYQFuUsCMPDKAdOiScRU4eAf/rX//So48+qilTpqhx48bZyoF3ALOFi8EQgAAEfCeAAfRdAqsSwABaJUdiyZhFIGYrF7MKOHbUqlVLHTt2POIiELNljDF/5tFvs2bNsh0YA5htZJwAAQhAwFcCGEBf8VsXHANonSTZTyi2DcyIESOcx8CjRo2S2evPbOtSuXJlZ2WveU8wtiLYPPbt3bu3XnvtNWc7mNhRuHBhmT/xHBjAeCgxBgIQgIA9BDCA9mhhQyYYQBtUSEIO5u6fMXZmI+g6depoyJAhat26tTNz27ZtVaVKFY0dO9b5/83/XrNmTYaoDz/8sMxij3gODGA8lBgDAQhAwB4CGEB7tLAhEwygDSoEMAcMYABFI2UIQCDSBDCAkZY/Q/EYQK6HhAhgABPCxkkQgAAEfCOAAfQNvZWBMYBWymJ/UhhA+zUiQwhAAAIHE8AAcj0cTAADyPWQEAEMYELYOAkCEICAbwQwgL6htzIwBtBKWexPCgNov0ZkCAEIQIA7gFwDRyKAAeTaSIgABjAhbJwEAQhAwDcC3AH0Db2VgTGAVspif1IYQPs1IkMIQAAC3AHkGuAOINdAUglgAJOKk8kgAAEIuE6AO4CuIw5UAO4ABkoue5LFANqjBZlAAAIQiIcABjAeStEZgwGMjtZJrRQDmFScTAYBCEDAdQIYQNcRByoABjBQctmTLAbQHi3IBAIQgEA8BDCA8VCKzhgMYHS0TmqlGMCk4mQyCEAAAq4TwAC6jjhQATCAgZLLnmQxgPZoQSYQgAAE4iGAAYyHUnTGYACjo3VSK8UAJhUnk0EAAhBwnQAG0HXEgQqAAQyUXPYkiwG0RwsygQAEIBAPAQxgPJSiMwYDGB2tk1opBjCpOJkMAhCAgOsEMICuIw5UAAxgoOSyJ1kMoD1akAkEIACBeAhgAOOhFJ0xGMDoaJ3USjGAScXJZBCAAARcJ4ABdB1xoAJgAAMllz3JYgDt0YJMIAABCMRDAAMYD6XojMEARkfrpFaKAUwqTiaDAAQg4DoBDKDriAMVAAMYKLnsSRYDaI8WZAIBCEAgHgIYwHgoRWcMBjA6Wie1UgxgUnEyGQQgAAHXCWAAXUccqAAYwEDJZU+yGEB7tCATCEAAAvEQwADGQyk6YzCA0dE6qZViAJOKk8kgAAEIuE4AA+g64kAFwAAGSi57ksUA2qMFmUAAAhCIhwAGMB5K0RmDAYyO1kmtFAOYVJxMBgEIQMB1AhhA1xEHKgAGMFBy2ZMsBtAeLcgEAhCAQDwEMIDxUIrOGAxgdLROaqUYwKTiZDIIQAACrhPAALqOOFABMICBksueZDGA9mhBJhCAAATiIYABjIdSdMZgAKOjdVIrxQAmFSeTQQACEHCdAAbQdcSBCoABDJRc9iSLAbRHCzKBAAQgEA8BDGA8lKIzBgMYHa2TWikGMKk4mQwCEICA6wQwgK4jDlQADGCg5LInWQygPVqQCQQgAIF4CGAA46EUnTEYwOhondRKMYBJxclkEIAABFwngAF0HXGgAmAAAyWXPcliAO3RgkwgAAEIxEMAAxgPpeiMwQBGR+ukVooBTCpOJoMABCDgOgEMoOuIAxUAAxgouexJFgNojxZkAgEIQCAeAhjAeChFZwwGMDpaJ7VSDGBScTIZBCAAAdcJYABdRxyoABjAQMllT7IYQHu0IBMIQAAC8RDAAMZDKTpjMIDR0TqplWIAk4qTySAAAQi4TgAD6DriQAXAAAZKLnuSxQDaowWZQAACEIiHAAYwHkrRGYMBjI7WSa0UA5hUnEwGAQhAwHUCGEDXEQcqAAYwUHLZkywG0B4tyAQCEIBAPAQwgPFQis4YDGB0tE5qpRjApOJkMghAAAKuE8AAuo44UAEwgIGSy55kMYD2aEEmEIAABOIhgAGMh1J0xmAAo6N1UivFACYVJ5NBAAIQcJ0ABtB1xIEKgAEMlFz2JIsBtEcLMoEABCAQDwEMYDyUojMGAxgdrZNaKQYwqTiZDAIQgIDrBDCAriMOVAAMYKDksidZDKA9WpAJBCAAgXgIYADjoRSdMRjA6Gid1EoxgEnFyWQQgAAEXCeAAXQdcaACYAADJZc9yWIA7dGCTCAAAQjEQwADGA+l6IzBAEZH66RWigFMKk4mgwAEIOA6AQyg64gDFQADGCi57EkWA2iPFmQCAQhAIB4CGMB4KEVnDAYwOlontVIMYFJxMhkEIAAB1wlgAF1HHKgAGMBAyWVPshhAe7QgEwhAAALxEMAAxkMpOmMwgNHROqmVYgCTipPJIAABCLhOAAPoOuJABcAABkoue5LFANqjBZlAAAIQiIcABjAeStEZgwGMjtZJrRQDmFScTAYBCEDAdQIYQNcRByoABjBQctmTLAbQHi3IBAIQgEA8BDCA8VCKzhgMYHS0TmqlGMCk4mQyCEAAAq4TwAC6jjhQATCAgZLLnmQxgPZoQSYQgAAE4iGAAYyHUnTGYACjo3VSK8UAJhUnk0EAAhBwnQAG0HXEgQqAAQyUXPYkiwG0RwsygQAEIBAPAQxgPJSiMwYDGBKtn3vuOQ0ePFgbN25U7dq1NXToULVq1eqI1b3zzjvq3bu3fv75Z51wwgkaMGCAOnfuHDcNDGDcqBgIAQhAwAoCGEArZLAmCQygNVIknsibb76pbt26yZjAli1bauTIkRozZoyWLl2qSpUqZZh47ty5jjl85JFHHNP37rvvqk+fPpo1a5aaNm0aVyIYwLgwMQgCEICANQQwgNZIYUUiGEArZMhZEsa0NWzYUMOHD0+fqGbNmurUqZMee+yxDJN36dJFxsBNnDgx/Wft27dXiRIl9Prrr8eVDAYwLkwMggAEIGANAQygNVJYkQgG0AoZEk9i7969KliwoMaPH3/II9w77rhDCxcu1PTp0zNMbu4K3nnnnc6f2DFkyBDnsfGaNWsyTWbPnj0yf2LH9u3bnbuL69atU9GiRRMvgDMhAAEIQMATAm0HT9WWnXv1ds/mqnF8UedGQMWKFbVt2zYVK1bMkxwIYg8BDKA9WiSUyYYNG1S+fHnNnj1bLVq0SJ9j4MCBeumll7R8+fIM8+bLl09jx47VFVdckf6z1157Tddee+0hJu/gE/v27at+/follCMnQQACEICAvQTML/IVKlSwN0Eyc4UABtAVrN5NGjOAc+bMUfPmzdMDm0Ud48aN07JlyzI1gMYcXn755ek/e/XVV9WjRw/t3r070+QPvwNofmOsXLmy1q5dy2+OR5A79ts1d0mP/vcBTln3CxjBKGsCWY84/DpKS0vTjh07VK5cOaWkpGQ9ASNCRQADGHA5vXoEfDgm3gHM+sKBUdaMzAg4Zc0JRjDKmkDWI7iOsmYUpREYwBCobRaBNGrUyFkFHDtq1aqljh07HnERiPmt75NPPkkf36FDBxUvXpxFIEm8Hmi28cGEU9acYASjrAlkPYLrKGtGURqBAQyB2rFtYEaMGOE8Bh41apRGjx6tJUuWOI9pr776auc9wdiKYPO4uHXr1s7ef8Ykvv/++3rooYfYBibJ1wLNNj6gcMqaE4xglDWBrEdwHWXNKEojMIAhUdvc/Rs0aJCzEXSdOnVkVvUak2eOtm3bqkqVKs7Cj9jx9ttvO6Zv5cqV6RtBX3TRRXHTMO8EGkP5wAMPKH/+/HGfF6WBMIpPbThlzQlGMMqaQNYjuI6yZhSlERjAKKlNrRCAAAQgAAEIQEASBpDLAAIQgAAEIAABCESMAAYwYoJTLgQgAAEIQAACEMAAcg1AAAIQgAAEIACBiBHAAEZMcMqFAAQgAAEIQAACGECugSMSMCuLBw8e7Kwsrl27tvOt4FatWh1x/DvvvKPevXvr559/Tl9Z3Llz51ATzg4jszXPyy+/rMWLFztMzN6N5pN9TZo0CTUjU1x2OB0M44033nC+WGO2K3rvvfdCzSm7jMzXeB588EFNmDBBf/zxh6pWraonn3xS5557bmg5ZZeR6VnDhw93vlhUqlQpXXLJJc7uBQUKFAgloxkzZjg9e8GCBU7ffvfdd9WpU6ej1mq+F3/XXXc524aZL4Lce++96tmzZyj5UNShBDCAXBGZEojtLWgabsuWLTVy5EiNGTNGS5cuVaVKlTKcM3fuXMccPvLIIzKmzzSePn36ZGtvwaBJkV1GV155pcPSfLPZ/ANktu0x/3ibxmv2aQzrkV1OMQ5r1qxxeFWrVk0lS5YMtQHMLiPzBSDD5rjjjlOvXr2c77iaTw4WKVJE9erVC+WllF1Gsc9bvvDCC87fuR9//FHdu3dXly5dnG2ywnhMnDjR+S58w4YNdfHFF2dpAFetWuVsG3b99dfrxhtvdM69+eabnQ8CmPM5wk0AAxhufROuznxdxDQR89tz7KhZs6bz22RsQ+mDJzdN1WwyahpQ7Gjfvr1KlCgR99dFEk7WpxOzy+jwNA8cOODweeaZZ5zNusN6JMLJsGnTpo2uvfZazZw5U+ZuV5jvAGaXkdn03dzpMd/6zps3b1gvnUPqyi6jW2+9VT/88IM+//zz9HnuvvtuffXVV841FfYjV65cWRrA++67Tx988IHDKXaYu3+LFi2S+aWeI9wEMIDh1jeh6vz6vnBCyfp0UiKMDk/VfI7P3MEZP368zj//fJ8qcTdsopwefvhhfffdd84/YOauTZgNYCKMzGNec1e0YMGCzpd8SpcurSuuuELmH/TcuXO7K6oPsyfCyLw+YMzM5MmTndcszKb35513nq655hrdf//9PlThbch4DKD5WECDBg00bNiw9OTM37nLLrtMu3btiswvF94qY080DKA9WliTyYYNG5xHkuZxgHl0EjvM+2ovvfSSli9fniHXfPnyOV8aMf8IxY7XXnvNuYNjdp8P25EIo8MZ3HLLLZo0aZLzTmBY30lKhJO57swd5YULFzrvbYXdACbCqEaNGlq9erXMawXmkd1PP/0kcz3dcccdzqsXYTsSYWQYPP300zJ3/dLS0rR//37ddNNNh3wzPWycDq4nHgNYvXp15++XeY0gdphPhZrXCwzz448/PsyIIl8bBjDyl0BGALFmaxqB+bZw7DDfDh43bpzz2OnwwxhAYw7NC/uxI/YOzu7du0NHORFGB0Mw7/89/vjjmjZtmurWrRs6PrGCssvJ3BU1PMy7px06dHCmiYoBzM7fN/MPt/l7Zd7hit3xe+qpp9IXbYXtgsrudWTqN3+3unbtqkcffVTm8fGKFSscg2zedzOL1cJ+xGsAzS/p5pOescP8Anbaaac5i0jKli0bdkyRrg8DGGn5My8+kcctZmHInXfe6fyJHeZFa7MKz7zMH7YjEUYxBv/617+cf5SmTJmixo0bhw3NIfVkl5O562ceSR38GDM1NdWZMyUlxbn7fMIJJ4SKWXYZmeLN+5Hm3T9zDcUO8/6teTRs7ribX8jCdCTCyCxKa9asmWOKY8crr7yiG264QTt37nSupzAf8RhAHgGH+QrIujYMYNaMIjnC/MZstikxd2JiR61atZztOI60CMTcvfnkk0/Sx5s7OMWLFw/1IpDsMDJgzD9GxvyZR7/mH6coHNm5lsxdLXOn5uDjoYcekrm2zHtK5s5X2MyNqTU7jMx488jOvGJh3muLGRnD54knnnAe3YXxyC4j83ezXbt2DpPYYVa3XnfddY4BDOO7kgfrHo8BNO+Mfvjhh87uDrHDPCY3v4ixCCSMf4sOrQkDGH6NE6owtuWCWW1oHgOPGjVKZh87s2VJ5cqVnVWr5j3BmBk0j6/Mb5PmMbExiebFdPMP96xZs5x/3MJ4ZJeReexrHj2Zf7jNOzaxo3DhwjJ/wnpkl9PhHML+CNjUm11GZssX8wuZYXPbbbc57wAaY3P77bc7ewOG8cguo759+8o8Fje9K/YI2JgbYwzNXGE8jLGN/QJl7qSb+k8//XRnwZB5SmMe9a5fv97Zj9QcsW1gzBYw5tG4MX1m4QzbwITx6shYEwYwGjonVKW5+2dMi3kXxOwVZR7pGpNnjrZt26pKlSrOwo/Y8fbbbzumz9yVMI/pjBm86KKLEoodlJOyw8jwyuxxuFnxav6xCvORHU5RNICm5uwyMv9Ym1cuzN0a88tYjx49QrsKOHZNZIeRWfQRe2/ZmB6zUvqCCy5w/pt5MhHGw7z3aAzf4YdZ+Wx6tfmFwSweMuNih9kI2lxHsY2gzV1BNoIO49WBAYyGqlQJAQhAAAIQgAAEjkKAO4BcHhCAAAQgAAEIQCBiBDCAEROcciEAAQhAAAIQgAAGkGsAAhCAAAQgAAEIRIwABjBiglMuBCAAAQhAAAIQwAByDUAAAhCAAAQgAIGIEcAARkxwyoUABCAAAQhAAAIYQK4BCEAAAhCAAAQgEDECGMCICU65EIBAfATM5tz9+vVTTjfqNpvvvvTSS3rxxRedjXg5IAABCNhAAANogwrkAIGQEsjs6ycFChRQuXLl1KZNG919992qXbu2ldVjAK2UhaQgAIEkEcAAJgkk00AAAhkJxAzgSSedpOOOO84ZsG3bNufbtXv37lX+/Pk1fvx45xNdth3PPPOMzJ9bb73V+ZPoYb6/+u677zrfze7cuXOi03AeBCAAgaQSwAAmFSeTQQACBxOIGcDDH39u2rRJV111laZMmaJjjz3W+T5p4cKFgQcBCEAAAh4RwAB6BJowEIgigSMZQMPi119/lfn5nj17NGHCBO6ORfECoWYIQMA3AhhA39ATGALhJ3A0A2iqP+WUU7R48WI98cQTuvfee9W2bVtNnz5dU6dOVfHixfXoo49q5syZ2rx5s1544YVDFlEsW7ZMgwYN0hdffKGNGzc6dxCbNWvmvFd4xhlnZAo3LS1Nb7/9trMgY/78+dq+fbvKlCnjvIfYpUuXQ+Y/2juAH374ofN4eMGCBc4cJtfjjz/eea/x5ptvVs2aNdPjZ7UI5OOPP9bTTz/t5LNjxw7n/cgOHTrIPDquWLFihjpiTFetWuWYaLNQZd68ec4j9YYNGzr//5HqD/8VR4UQgEC8BDCA8ZJiHAQgkG0CWRnAOnXqaMmSJRkMoDExAwcOVN68eXXyySfrjz/+UO/evdMN2ltvvaVu3bo5pqdIkSI64YQTHDNk/uTKlUvDhg3Tbbfddki+ZmzXrl2d9/HMYQxbhQoVtGHDBuePMYfmT+w4kgE0xi82d9myZZ05jAlct26ddu/erSFDhuj//u//4jKAxuQ9/vjjzlgzjzGjP/zwg3bt2qUSJUpo8uTJaty48SF1xJga03jXXXepaNGizp3UFStWOHnkyZNHn332mWOmOSAAAQgciQAGkGsDAhBwjUC8j4DfeecdXXTRRel3AHPnzq0ePXo4ZqpgwYJOfn///beOOeYYfffdd2rSpIlj9P79738741JSUpwx5s6cebfwr7/+cu7O1atXL722O++8U0OHDlWpUqU0btw4tW/fPv1nxgCOGjVKxvQdzQDu37/fWcxi7tSZxSudOnVKH29+9umnnzqGrHXr1lkawI8++shZ/GIM29ixY3XllVc65/z555+O0TVG1fBbunSpU3fsiDE15rh///765z//KcNr3759uvbaa/Xqq6+qadOmzl1BDghAAAIYQK4BCEDAcwJHMoC//fabY3jMIhBzp2vNmjXOnbzYI2Bj3L755pt0Y3dw4hdffLHzzqC5y3f77bdnqCl2h+66667T888/7/zcGDyTizFJM2bMUKtWrbJkkdkdQHOH0dw5bNCggZNfPMeRHgGfdtppmj17tu644w7HmB58mDuAlStX1pYtW5waTC2HG0BjHj/44INDzjPjzZ1E817l1q1bHbYcEIAABDIjwB1ArgsIQMA1AlltA2PuYr3++usyps4cMQM4ePBg3XPPPRnyMo9xixUr5hg5Y3DM3bbDj7Vr1zrmyTwWNo9FzTFmzBhdf/31zjuCc+fOjavezAzggQMHVKhQIeeunTFvB99hPNKkmRnAnTt3OnWkpqY6OZpcDz969erlbB1j3k184403MhjA999/XxdeeGGG82rUqKHly5c77xQ2atQorloZBAEIRI8ABjB6mlMxBDwjkNlG0Pny5ZN5d86aLl7FAAAEFUlEQVQ8JjULNurXr5+eT8wAmsej5513XoY8zYIRs3DEzHHqqadmWod5j2/OnDkyG06bx8bmMHGeeuop590881g5nuNI7wCaxSrGoJrHzi1bttTpp5/u3FE0d/RMzMOPzAzgwoULnbuIZh9Ek6N5nH34YR7lmsfZh99tjDE1LDLbRNtwNQtnpk2b5ixK4YAABCCQGQEMINcFBCDgGoGsFoEcHvjgVcCZLWIwd92M0Yr3iC3qMHf/zF1AY+rMp93iOY5kAM1dO7MA49lnn3U2tI4d5m6kWQFszjPGLnZkZgBnzZrlmEbzuNYsHsnsMI/HzzrrLJ144omHxDl4FbD539llGE/tjIEABMJPAAMYfo2pEAK+EUi2AVy0aJFzx7B8+fL65Zdf4q7LrJaNrc7N6R3Ag4OaDazNO4UTJ0503ks0j6hvueUWZ4uYoxnAZNwBNNvAYADjvgQYCAEIHEYAA8glAQEIuEYg2QbQLI4we+6Zd/HM3oAlS5aMK3ezkOIf//hHjt8BPFqwSZMmOSuLzYpd845fbGWyW+8AYgDjkp5BEIDAEQhgALk0IAAB1wgk2wCaRM3qV/OOoHmUe/C2LUcrwmwUbRaGmMUj5vGreXcvq+NoG0Fndm5sQ2jzM7Ma13zizhxHWgVsHgGbXDJbBWzeCzT5xjbANtu7xA4eAWelHD+HAATiIYABjIcSYyAAgYQIuGEAzeNTs5rX7LtnvhRiDNTB++QZs2c2ijbv4fXs2TM979hjYLOPn9kH8Oyzz07/mdkmxrwj2KdPn/T/lpkBNHvyme1nzN1Es0FzbPGG2XbFbFRtFocY42YeDceOIxnA2D6AZiW02QfwiiuucE4xewyabV/MF0uOtg8gdwATuiQ5CQIQ+C8BDCCXAgQg4BoBNwygSdZskmxWyJpHwmblrdn6xKwMNuYvtqjivvvuS//KhjnHmDSzpYrZPsUc5pNr5l1Cc8769evj+hJI7N09c755FF2tWjXnvJUrVzpf4TA5vPfee86n3LIygObnB38JxHz2LfYlELORtdnDzzxWPny1M3cAXbtcmRgCkSKAAYyU3BT7/+3dMQrCQBRF0Z1kAdn/PrIluQOCiJBpTPE5U1lEZc5YPIJ5n8CzAv8KgO2i8uge6Cgk9bppGAW68zzXhI468gppn6uwVu9gc4Wv61r/1auSpmqZwmHj5d7r1x3Aglnvb0RbYbDw2DqOY9Xa1F343el3Nwu4O4FNNKm3r8+vaLoAWQ/g3SxgD4E8+3v2bQQmCQiAk07TXggQIECAAAECGwIC4AaSSwgQIECAAAECkwQEwEmnaS8ECBAgQIAAgQ0BAXADySUECBAgQIAAgUkCAuCk07QXAgQIECBAgMCGgAC4geQSAgQIECBAgMAkgRcfWmttYT3V9QAAAABJRU5ErkJggg==\" width=\"640\">"
      ],
      "text/plain": [
       "<IPython.core.display.HTML object>"
      ]
     },
     "metadata": {},
     "output_type": "display_data"
    },
    {
     "name": "stderr",
     "output_type": "stream",
     "text": [
      "C:\\Users\\Marin\\Anaconda3\\lib\\site-packages\\matplotlib\\figure.py:98: MatplotlibDeprecationWarning: \n",
      "Adding an axes using the same arguments as a previous axes currently reuses the earlier instance.  In a future version, a new instance will always be created and returned.  Meanwhile, this warning can be suppressed, and the future behavior ensured, by passing a unique label to each axes instance.\n",
      "  \"Adding an axes using the same arguments as a previous axes \"\n"
     ]
    }
   ],
   "source": [
    "from sklearn.metrics import precision_recall_curve\n",
    "\n",
    "precision, recall, thresholds = precision_recall_curve(y_test, y_scores_lr)\n",
    "closest_zero = np.argmin(np.abs(thresholds))\n",
    "closest_zero_p = precision[closest_zero]\n",
    "closest_zero_r = recall[closest_zero]\n",
    "\n",
    "plt.figure()\n",
    "plt.xlim([0.0, 1.01])\n",
    "plt.ylim([0.0, 1.01])\n",
    "plt.plot(precision, recall, label='Precision-Recall Curve')\n",
    "plt.plot(closest_zero_p, closest_zero_r, 'o', markersize = 12, fillstyle = 'none', c='r', mew=3)\n",
    "plt.xlabel('Precision', fontsize=16)\n",
    "plt.ylabel('Recall', fontsize=16)\n",
    "plt.axes().set_aspect('equal')\n",
    "plt.show()"
   ]
  },
  {
   "cell_type": "markdown",
   "metadata": {},
   "source": [
    "### ROC curves, Area-Under-Curve (AUC)"
   ]
  },
  {
   "cell_type": "code",
   "execution_count": null,
   "metadata": {},
   "outputs": [],
   "source": [
    "from sklearn.metrics import roc_curve, auc\n",
    "\n",
    "X_train, X_test, y_train, y_test = train_test_split(X, y_binary_imbalanced, random_state=0)\n",
    "\n",
    "y_score_lr = lr.fit(X_train, y_train).decision_function(X_test)\n",
    "fpr_lr, tpr_lr, _ = roc_curve(y_test, y_score_lr)\n",
    "roc_auc_lr = auc(fpr_lr, tpr_lr)\n",
    "\n",
    "plt.figure()\n",
    "plt.xlim([-0.01, 1.00])\n",
    "plt.ylim([-0.01, 1.01])\n",
    "plt.plot(fpr_lr, tpr_lr, lw=3, label='LogRegr ROC curve (area = {:0.2f})'.format(roc_auc_lr))\n",
    "plt.xlabel('False Positive Rate', fontsize=16)\n",
    "plt.ylabel('True Positive Rate', fontsize=16)\n",
    "plt.title('ROC curve (1-of-10 digits classifier)', fontsize=16)\n",
    "plt.legend(loc='lower right', fontsize=13)\n",
    "plt.plot([0, 1], [0, 1], color='navy', lw=3, linestyle='--')\n",
    "plt.axes().set_aspect('equal')\n",
    "plt.show()"
   ]
  },
  {
   "cell_type": "code",
   "execution_count": null,
   "metadata": {
    "scrolled": false
   },
   "outputs": [],
   "source": [
    "from matplotlib import cm\n",
    "\n",
    "X_train, X_test, y_train, y_test = train_test_split(X, y_binary_imbalanced, random_state=0)\n",
    "\n",
    "plt.figure()\n",
    "plt.xlim([-0.01, 1.00])\n",
    "plt.ylim([-0.01, 1.01])\n",
    "for g in [0.01, 0.1, 0.20, 1]:\n",
    "    svm = SVC(gamma=g).fit(X_train, y_train)\n",
    "    y_score_svm = svm.decision_function(X_test)\n",
    "    fpr_svm, tpr_svm, _ = roc_curve(y_test, y_score_svm)\n",
    "    roc_auc_svm = auc(fpr_svm, tpr_svm)\n",
    "    accuracy_svm = svm.score(X_test, y_test)\n",
    "    print(\"gamma = {:.2f}  accuracy = {:.2f}   AUC = {:.2f}\".format(g, accuracy_svm, \n",
    "                                                                    roc_auc_svm))\n",
    "    plt.plot(fpr_svm, tpr_svm, lw=3, alpha=0.7, \n",
    "             label='SVM (gamma = {:0.2f}, area = {:0.2f})'.format(g, roc_auc_svm))\n",
    "\n",
    "plt.xlabel('False Positive Rate', fontsize=16)\n",
    "plt.ylabel('True Positive Rate (Recall)', fontsize=16)\n",
    "plt.plot([0, 1], [0, 1], color='k', lw=0.5, linestyle='--')\n",
    "plt.legend(loc=\"lower right\", fontsize=11)\n",
    "plt.title('ROC curve: (1-of-10 digits classifier)', fontsize=16)\n",
    "plt.axes().set_aspect('equal')\n",
    "\n",
    "plt.show()"
   ]
  },
  {
   "cell_type": "markdown",
   "metadata": {},
   "source": [
    "### Evaluation measures for multi-class classification"
   ]
  },
  {
   "cell_type": "markdown",
   "metadata": {},
   "source": [
    "#### Multi-class confusion matrix"
   ]
  },
  {
   "cell_type": "code",
   "execution_count": null,
   "metadata": {
    "scrolled": false
   },
   "outputs": [],
   "source": [
    "dataset = load_digits()\n",
    "X, y = dataset.data, dataset.target\n",
    "X_train_mc, X_test_mc, y_train_mc, y_test_mc = train_test_split(X, y, random_state=0)\n",
    "\n",
    "\n",
    "svm = SVC(kernel = 'linear').fit(X_train_mc, y_train_mc)\n",
    "svm_predicted_mc = svm.predict(X_test_mc)\n",
    "confusion_mc = confusion_matrix(y_test_mc, svm_predicted_mc)\n",
    "df_cm = pd.DataFrame(confusion_mc, \n",
    "                     index = [i for i in range(0,10)], columns = [i for i in range(0,10)])\n",
    "\n",
    "plt.figure(figsize=(5.5,4))\n",
    "sns.heatmap(df_cm, annot=True)\n",
    "plt.title('SVM Linear Kernel \\nAccuracy:{0:.3f}'.format(accuracy_score(y_test_mc, \n",
    "                                                                       svm_predicted_mc)))\n",
    "plt.ylabel('True label')\n",
    "plt.xlabel('Predicted label')\n",
    "\n",
    "\n",
    "svm = SVC(kernel = 'rbf').fit(X_train_mc, y_train_mc)\n",
    "svm_predicted_mc = svm.predict(X_test_mc)\n",
    "confusion_mc = confusion_matrix(y_test_mc, svm_predicted_mc)\n",
    "df_cm = pd.DataFrame(confusion_mc, index = [i for i in range(0,10)],\n",
    "                  columns = [i for i in range(0,10)])\n",
    "\n",
    "plt.figure(figsize = (5.5,4))\n",
    "sns.heatmap(df_cm, annot=True)\n",
    "plt.title('SVM RBF Kernel \\nAccuracy:{0:.3f}'.format(accuracy_score(y_test_mc, \n",
    "                                                                    svm_predicted_mc)))\n",
    "plt.ylabel('True label')\n",
    "plt.xlabel('Predicted label');"
   ]
  },
  {
   "cell_type": "markdown",
   "metadata": {},
   "source": [
    "#### Multi-class classification report"
   ]
  },
  {
   "cell_type": "code",
   "execution_count": null,
   "metadata": {},
   "outputs": [],
   "source": [
    "print(classification_report(y_test_mc, svm_predicted_mc))"
   ]
  },
  {
   "cell_type": "markdown",
   "metadata": {},
   "source": [
    "#### Micro- vs. macro-averaged metrics"
   ]
  },
  {
   "cell_type": "code",
   "execution_count": null,
   "metadata": {},
   "outputs": [],
   "source": [
    "print('Micro-averaged precision = {:.2f} (treat instances equally)'\n",
    "      .format(precision_score(y_test_mc, svm_predicted_mc, average = 'micro')))\n",
    "print('Macro-averaged precision = {:.2f} (treat classes equally)'\n",
    "      .format(precision_score(y_test_mc, svm_predicted_mc, average = 'macro')))"
   ]
  },
  {
   "cell_type": "code",
   "execution_count": null,
   "metadata": {},
   "outputs": [],
   "source": [
    "print('Micro-averaged f1 = {:.2f} (treat instances equally)'\n",
    "      .format(f1_score(y_test_mc, svm_predicted_mc, average = 'micro')))\n",
    "print('Macro-averaged f1 = {:.2f} (treat classes equally)'\n",
    "      .format(f1_score(y_test_mc, svm_predicted_mc, average = 'macro')))"
   ]
  },
  {
   "cell_type": "markdown",
   "metadata": {},
   "source": [
    "### Regression evaluation metrics"
   ]
  },
  {
   "cell_type": "code",
   "execution_count": null,
   "metadata": {},
   "outputs": [],
   "source": [
    "%matplotlib notebook\n",
    "import matplotlib.pyplot as plt\n",
    "import numpy as np\n",
    "from sklearn.model_selection import train_test_split\n",
    "from sklearn import datasets\n",
    "from sklearn.linear_model import LinearRegression\n",
    "from sklearn.metrics import mean_squared_error, r2_score\n",
    "from sklearn.dummy import DummyRegressor\n",
    "\n",
    "diabetes = datasets.load_diabetes()\n",
    "\n",
    "X = diabetes.data[:, None, 6]\n",
    "y = diabetes.target\n",
    "\n",
    "X_train, X_test, y_train, y_test = train_test_split(X, y, random_state=0)\n",
    "\n",
    "lm = LinearRegression().fit(X_train, y_train)\n",
    "lm_dummy_mean = DummyRegressor(strategy = 'mean').fit(X_train, y_train)\n",
    "\n",
    "y_predict = lm.predict(X_test)\n",
    "y_predict_dummy_mean = lm_dummy_mean.predict(X_test)\n",
    "\n",
    "print('Linear model, coefficients: ', lm.coef_)\n",
    "print(\"Mean squared error (dummy): {:.2f}\".format(mean_squared_error(y_test, \n",
    "                                                                     y_predict_dummy_mean)))\n",
    "print(\"Mean squared error (linear model): {:.2f}\".format(mean_squared_error(y_test, y_predict)))\n",
    "print(\"r2_score (dummy): {:.2f}\".format(r2_score(y_test, y_predict_dummy_mean)))\n",
    "print(\"r2_score (linear model): {:.2f}\".format(r2_score(y_test, y_predict)))\n",
    "\n",
    "# Plot outputs\n",
    "plt.scatter(X_test, y_test,  color='black')\n",
    "plt.plot(X_test, y_predict, color='green', linewidth=2)\n",
    "plt.plot(X_test, y_predict_dummy_mean, color='red', linestyle = 'dashed', \n",
    "         linewidth=2, label = 'dummy')\n",
    "\n",
    "plt.show()"
   ]
  },
  {
   "cell_type": "markdown",
   "metadata": {},
   "source": [
    "### Model selection using evaluation metrics"
   ]
  },
  {
   "cell_type": "markdown",
   "metadata": {},
   "source": [
    "#### Cross-validation example"
   ]
  },
  {
   "cell_type": "code",
   "execution_count": null,
   "metadata": {},
   "outputs": [],
   "source": [
    "from sklearn.model_selection import cross_val_score\n",
    "from sklearn.svm import SVC\n",
    "\n",
    "dataset = load_digits()\n",
    "# again, making this a binary problem with 'digit 1' as positive class \n",
    "# and 'not 1' as negative class\n",
    "X, y = dataset.data, dataset.target == 1\n",
    "clf = SVC(kernel='linear', C=1)\n",
    "\n",
    "# accuracy is the default scoring metric\n",
    "print('Cross-validation (accuracy)', cross_val_score(clf, X, y, cv=5))\n",
    "# use AUC as scoring metric\n",
    "print('Cross-validation (AUC)', cross_val_score(clf, X, y, cv=5, scoring = 'roc_auc'))\n",
    "# use recall as scoring metric\n",
    "print('Cross-validation (recall)', cross_val_score(clf, X, y, cv=5, scoring = 'recall'))"
   ]
  },
  {
   "cell_type": "markdown",
   "metadata": {},
   "source": [
    "#### Grid search example"
   ]
  },
  {
   "cell_type": "code",
   "execution_count": null,
   "metadata": {},
   "outputs": [],
   "source": [
    "from sklearn.svm import SVC\n",
    "from sklearn.model_selection import GridSearchCV\n",
    "from sklearn.metrics import roc_auc_score\n",
    "\n",
    "dataset = load_digits()\n",
    "X, y = dataset.data, dataset.target == 1\n",
    "X_train, X_test, y_train, y_test = train_test_split(X, y, random_state=0)\n",
    "\n",
    "clf = SVC(kernel='rbf')\n",
    "grid_values = {'gamma': [0.001, 0.01, 0.05, 0.1, 1, 10, 100]}\n",
    "\n",
    "# default metric to optimize over grid parameters: accuracy\n",
    "grid_clf_acc = GridSearchCV(clf, param_grid = grid_values)\n",
    "grid_clf_acc.fit(X_train, y_train)\n",
    "y_decision_fn_scores_acc = grid_clf_acc.decision_function(X_test) \n",
    "\n",
    "print('Grid best parameter (max. accuracy): ', grid_clf_acc.best_params_)\n",
    "print('Grid best score (accuracy): ', grid_clf_acc.best_score_)\n",
    "\n",
    "# alternative metric to optimize over grid parameters: AUC\n",
    "grid_clf_auc = GridSearchCV(clf, param_grid = grid_values, scoring = 'roc_auc')\n",
    "grid_clf_auc.fit(X_train, y_train)\n",
    "y_decision_fn_scores_auc = grid_clf_auc.decision_function(X_test) \n",
    "\n",
    "print('Test set AUC: ', roc_auc_score(y_test, y_decision_fn_scores_auc))\n",
    "print('Grid best parameter (max. AUC): ', grid_clf_auc.best_params_)\n",
    "print('Grid best score (AUC): ', grid_clf_auc.best_score_)\n"
   ]
  },
  {
   "cell_type": "markdown",
   "metadata": {},
   "source": [
    "#### Evaluation metrics supported for model selection"
   ]
  },
  {
   "cell_type": "code",
   "execution_count": null,
   "metadata": {},
   "outputs": [],
   "source": [
    "from sklearn.metrics.scorer import SCORERS\n",
    "\n",
    "print(sorted(list(SCORERS.keys())))"
   ]
  },
  {
   "cell_type": "markdown",
   "metadata": {},
   "source": [
    "### Two-feature classification example using the digits dataset"
   ]
  },
  {
   "cell_type": "markdown",
   "metadata": {},
   "source": [
    "#### Optimizing a classifier using different evaluation metrics"
   ]
  },
  {
   "cell_type": "code",
   "execution_count": null,
   "metadata": {
    "scrolled": false
   },
   "outputs": [],
   "source": [
    "from sklearn.datasets import load_digits\n",
    "from sklearn.model_selection import train_test_split\n",
    "from adspy_shared_utilities import plot_class_regions_for_classifier_subplot\n",
    "from sklearn.svm import SVC\n",
    "from sklearn.model_selection import GridSearchCV\n",
    "\n",
    "\n",
    "dataset = load_digits()\n",
    "X, y = dataset.data, dataset.target == 1\n",
    "X_train, X_test, y_train, y_test = train_test_split(X, y, random_state=0)\n",
    "\n",
    "# Create a two-feature input vector matching the example plot above\n",
    "# We jitter the points (add a small amount of random noise) in case there are areas\n",
    "# in feature space where many instances have the same features.\n",
    "jitter_delta = 0.25\n",
    "X_twovar_train = X_train[:,[20,59]]+ np.random.rand(X_train.shape[0], 2) - jitter_delta\n",
    "X_twovar_test  = X_test[:,[20,59]] + np.random.rand(X_test.shape[0], 2) - jitter_delta\n",
    "\n",
    "clf = SVC(kernel = 'linear').fit(X_twovar_train, y_train)\n",
    "grid_values = {'class_weight':['balanced', {1:2},{1:3},{1:4},{1:5},{1:10},{1:20},{1:50}]}\n",
    "plt.figure(figsize=(9,6))\n",
    "for i, eval_metric in enumerate(('precision','recall', 'f1','roc_auc')):\n",
    "    grid_clf_custom = GridSearchCV(clf, param_grid=grid_values, scoring=eval_metric)\n",
    "    grid_clf_custom.fit(X_twovar_train, y_train)\n",
    "    print('Grid best parameter (max. {0}): {1}'\n",
    "          .format(eval_metric, grid_clf_custom.best_params_))\n",
    "    print('Grid best score ({0}): {1}'\n",
    "          .format(eval_metric, grid_clf_custom.best_score_))\n",
    "    plt.subplots_adjust(wspace=0.3, hspace=0.3)\n",
    "    plot_class_regions_for_classifier_subplot(grid_clf_custom, X_twovar_test, y_test, None,\n",
    "                                             None, None,  plt.subplot(2, 2, i+1))\n",
    "    \n",
    "    plt.title(eval_metric+'-oriented SVC')\n",
    "plt.tight_layout()\n",
    "plt.show()"
   ]
  },
  {
   "cell_type": "markdown",
   "metadata": {},
   "source": [
    "#### Precision-recall curve for the default SVC classifier (with balanced class weights)"
   ]
  },
  {
   "cell_type": "code",
   "execution_count": null,
   "metadata": {
    "scrolled": false
   },
   "outputs": [],
   "source": [
    "from sklearn.model_selection import train_test_split\n",
    "from sklearn.metrics import precision_recall_curve\n",
    "from adspy_shared_utilities import plot_class_regions_for_classifier\n",
    "from sklearn.svm import SVC\n",
    "\n",
    "dataset = load_digits()\n",
    "X, y = dataset.data, dataset.target == 1\n",
    "X_train, X_test, y_train, y_test = train_test_split(X, y, random_state=0)\n",
    "\n",
    "# create a two-feature input vector matching the example plot above\n",
    "jitter_delta = 0.25\n",
    "X_twovar_train = X_train[:,[20,59]]+ np.random.rand(X_train.shape[0], 2) - jitter_delta\n",
    "X_twovar_test  = X_test[:,[20,59]] + np.random.rand(X_test.shape[0], 2) - jitter_delta\n",
    "\n",
    "clf = SVC(kernel='linear', class_weight='balanced').fit(X_twovar_train, y_train)\n",
    "\n",
    "y_scores = clf.decision_function(X_twovar_test)\n",
    "\n",
    "precision, recall, thresholds = precision_recall_curve(y_test, y_scores)\n",
    "closest_zero = np.argmin(np.abs(thresholds))\n",
    "closest_zero_p = precision[closest_zero]\n",
    "closest_zero_r = recall[closest_zero]\n",
    "\n",
    "plot_class_regions_for_classifier(clf, X_twovar_test, y_test)\n",
    "plt.title(\"SVC, class_weight = 'balanced', optimized for accuracy\")\n",
    "plt.show()\n",
    "\n",
    "plt.figure()\n",
    "plt.xlim([0.0, 1.01])\n",
    "plt.ylim([0.0, 1.01])\n",
    "plt.title (\"Precision-recall curve: SVC, class_weight = 'balanced'\")\n",
    "plt.plot(precision, recall, label = 'Precision-Recall Curve')\n",
    "plt.plot(closest_zero_p, closest_zero_r, 'o', markersize=12, fillstyle='none', c='r', mew=3)\n",
    "plt.xlabel('Precision', fontsize=16)\n",
    "plt.ylabel('Recall', fontsize=16)\n",
    "plt.axes().set_aspect('equal')\n",
    "plt.show()\n",
    "print('At zero threshold, precision: {:.2f}, recall: {:.2f}'\n",
    "      .format(closest_zero_p, closest_zero_r))"
   ]
  },
  {
   "cell_type": "code",
   "execution_count": null,
   "metadata": {
    "collapsed": true
   },
   "outputs": [],
   "source": []
  }
 ],
 "metadata": {
  "anaconda-cloud": {},
  "kernelspec": {
   "display_name": "Python 3",
   "language": "python",
   "name": "python3"
  },
  "language_info": {
   "codemirror_mode": {
    "name": "ipython",
    "version": 3
   },
   "file_extension": ".py",
   "mimetype": "text/x-python",
   "name": "python",
   "nbconvert_exporter": "python",
   "pygments_lexer": "ipython3",
   "version": "3.7.0"
  }
 },
 "nbformat": 4,
 "nbformat_minor": 1
}
