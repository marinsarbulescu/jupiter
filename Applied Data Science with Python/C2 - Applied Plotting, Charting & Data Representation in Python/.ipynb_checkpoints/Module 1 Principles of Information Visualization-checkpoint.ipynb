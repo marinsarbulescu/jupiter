{
 "cells": [
  {
   "cell_type": "markdown",
   "metadata": {},
   "source": [
    "# Module 1 Principles of Information Visualization"
   ]
  },
  {
   "cell_type": "markdown",
   "metadata": {},
   "source": [
    "This course is about information visualization (infoviz)\n",
    "\n",
    "\n",
    "## The Visualization Wheel and the tradeoffs of infoviz design\n",
    "\n",
    "Alberto Cairo invented the Visualization Wheel is a tool for thinking about infoviz design tradeoffs\n",
    "\n",
    "A circle split in two, bottom and top half. The top half represents highly complex data that informs at a deep level. The bottom half represents simpler data that informs at a shallower level. Inside the circle are dimensions that describe the tradeoffs between the two approaches.\n",
    "\n",
    "Generally the complex visualization is more indicative of the work of a scientist or an engineer while the simpler representation is the work of artists and journalists.\n",
    "\n",
    "### Abstraction and Figuration\n",
    "A highly figurative visualization describes the phenomenon using physical representations as pictures or drawings. An abstract visualization is less real and more conceptual, uses more numbers.\n",
    "\n",
    "### Functionality and Decoration\n",
    "A functional graphic focuses on the simple and direct representation of the data and has no visual embellishments. A decorative graphic has more embellishments as different font-faces, more colors, emphasis, etc.\n",
    "\n",
    "### Density and Lightness\n",
    "A dense graphic presents a lot of information. A light graphic does not present a lot of information.\n",
    "\n",
    "### Multidimensional and Unidimensional\n",
    "A multidimensional graphic explore different aspects of a phenomena in a shallower way. A unidimensional visual explores one or a few aspects of a phenomena in details.\n",
    "\n",
    "### Originality and Familiarity\n",
    "An original visual employs new, realtively unfamiliar ways of rendering the data. A familiar visual uses standard elements as bar charts, etc.\n",
    "\n",
    "### Novelty and Redundancy\n",
    "A redundant visual tells the same story in different ways, like color and font size to call out the same thing. Novelty is presenting one story in a single way.\n",
    "\n",
    "\n",
    "## Graphical heuristics\n",
    "Edward Tufte is a thought leader in how to design visual designs of quantitative data. He introduces four graphical heuristics.\n",
    "\n",
    "### Data-ink ratio\n",
    "Data-ink is the non-redundant, indispensable core of a graphic, essential to making sense of the visual.\n",
    "Data-ink ration is the amount of data-ink divded by the total ink required to print the graphic.\n",
    "Examples at http://www.darkhorseanalytics.com/\n",
    "\n",
    "### Chart junk\n",
    "Chartjunk are non data-ink visual elements: unintended optical art, the grid and the duck.\n",
    "\n",
    "Unintended optical art can be excessing patterning or shading of the chart features.\n",
    "The grid can distract and even compete with the data.\n",
    "The duck represents any kind of non-data related visual.\n",
    "\n",
    "### Spark lines (datawords)\n",
    "Small, simple graphs embedded within the context of discussion, as in document text or spreadsheet tables to summarize or convey the information quicker.\n",
    "\n",
    "### Lie factor\n",
    "The lie factor is the size of an effect shown in the graphic, divided by the size of the effect actually in the data. It is used to help a narrative and often to mislead the observers.\n",
    "\n",
    "\n",
    "\n"
   ]
  },
  {
   "cell_type": "code",
   "execution_count": null,
   "metadata": {},
   "outputs": [],
   "source": []
  }
 ],
 "metadata": {
  "kernelspec": {
   "display_name": "Python 3",
   "language": "python",
   "name": "python3"
  },
  "language_info": {
   "codemirror_mode": {
    "name": "ipython",
    "version": 3
   },
   "file_extension": ".py",
   "mimetype": "text/x-python",
   "name": "python",
   "nbconvert_exporter": "python",
   "pygments_lexer": "ipython3",
   "version": "3.7.0"
  }
 },
 "nbformat": 4,
 "nbformat_minor": 2
}
